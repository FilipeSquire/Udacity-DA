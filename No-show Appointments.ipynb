{
 "cells": [
  {
   "cell_type": "markdown",
   "id": "04f48f53",
   "metadata": {},
   "source": [
    "# Introduction"
   ]
  },
  {
   "cell_type": "markdown",
   "id": "bf664fcb",
   "metadata": {},
   "source": [
    "This dataset collects information from 100k medical appointments in Brazil and is focused on the question of whether or not patients show up for their appointment. A number of characteristics about the patient are included in each row.\n",
    "\n",
    "● ‘ScheduledDay’ tells us on what day the patient set up their appointment.\n",
    "\n",
    "● ‘Neighborhood’ indicates the location of the hospital.\n",
    "\n",
    "● ‘Scholarship’ indicates whether or not the patient is enrolled in Brasilian welfare program Bolsa Família.\n",
    "\n",
    "● Be careful about the encoding of the last column: it says ‘No’ if the patient showed up to their appointment, and ‘Yes’ if they did not show up."
   ]
  },
  {
   "cell_type": "markdown",
   "id": "c836f4b9",
   "metadata": {},
   "source": [
    "**Kaggle Context**\n",
    "\n",
    "Main Question: Why do 30% of patients miss their scheduled appointments?\n",
    "\n",
    "01. PatientId = Identification of a patient\n",
    "02. AppointmentID = Identification of each appointment\n",
    "03. Gender = Male or Female . Female is the greater proportion, woman takes way more care of they health in comparison to man.\n",
    "04. DataMarcacaoConsulta = The day of the actuall appointment, when they have to visit the doctor.\n",
    "05. DataAgendamento = The day someone called or registered the appointment, this is before appointment of course.\n",
    "06. Age = How old is the patient.\n",
    "07. Neighbourhood = Where the appointment takes place.\n",
    "08. Scholarship = True of False . Observation, this is a broad topic, consider reading this article https://en.wikipedia.org/wiki/Bolsa_Fam%C3%ADlia\n",
    "09. Hipertension = True or False\n",
    "10. Diabetes = True or False\n",
    "11. Alcoholism = True or False\n",
    "12. Handcap = True or False\n",
    "13. SMS_received = 1 or more messages sent to the patient.\n",
    "14. No-show = True or False"
   ]
  },
  {
   "cell_type": "code",
   "execution_count": 3,
   "id": "11412d7d",
   "metadata": {},
   "outputs": [],
   "source": [
    "import pandas as pd\n",
    "import numpy as np\n",
    "import seaborn as sns\n",
    "import matplotlib.pyplot as plt\n",
    "import sklearn as sk"
   ]
  },
  {
   "cell_type": "code",
   "execution_count": 4,
   "id": "3156c746",
   "metadata": {},
   "outputs": [
    {
     "name": "stdout",
     "output_type": "stream",
     "text": [
      "<class 'pandas.core.frame.DataFrame'>\n",
      "RangeIndex: 110527 entries, 0 to 110526\n",
      "Data columns (total 14 columns):\n",
      " #   Column          Non-Null Count   Dtype  \n",
      "---  ------          --------------   -----  \n",
      " 0   PatientId       110527 non-null  float64\n",
      " 1   AppointmentID   110527 non-null  int64  \n",
      " 2   Gender          110527 non-null  object \n",
      " 3   ScheduledDay    110527 non-null  object \n",
      " 4   AppointmentDay  110527 non-null  object \n",
      " 5   Age             110527 non-null  int64  \n",
      " 6   Neighbourhood   110527 non-null  object \n",
      " 7   Scholarship     110527 non-null  int64  \n",
      " 8   Hipertension    110527 non-null  int64  \n",
      " 9   Diabetes        110527 non-null  int64  \n",
      " 10  Alcoholism      110527 non-null  int64  \n",
      " 11  Handcap         110527 non-null  int64  \n",
      " 12  SMS_received    110527 non-null  int64  \n",
      " 13  No-show         110527 non-null  object \n",
      "dtypes: float64(1), int64(8), object(5)\n",
      "memory usage: 11.8+ MB\n"
     ]
    }
   ],
   "source": [
    "df = pd.read_csv('noshowappointments-kagglev2-may-2016.csv')\n",
    "df.info()"
   ]
  },
  {
   "cell_type": "markdown",
   "id": "c3f0e181",
   "metadata": {},
   "source": [
    "# Data Wrangling "
   ]
  },
  {
   "cell_type": "markdown",
   "id": "5352a8d9",
   "metadata": {},
   "source": [
    "**First off -> We must deal with the date columns format which are: ScheduledDay and AppointmentDay.**"
   ]
  },
  {
   "cell_type": "code",
   "execution_count": 5,
   "id": "1f353ec3",
   "metadata": {},
   "outputs": [
    {
     "name": "stdout",
     "output_type": "stream",
     "text": [
      "<class 'pandas.core.frame.DataFrame'>\n",
      "RangeIndex: 110527 entries, 0 to 110526\n",
      "Data columns (total 16 columns):\n",
      " #   Column            Non-Null Count   Dtype  \n",
      "---  ------            --------------   -----  \n",
      " 0   PatientId         110527 non-null  float64\n",
      " 1   AppointmentID     110527 non-null  int64  \n",
      " 2   Gender            110527 non-null  object \n",
      " 3   ScheduledDay      110527 non-null  object \n",
      " 4   AppointmentDay    110527 non-null  object \n",
      " 5   Age               110527 non-null  int64  \n",
      " 6   Neighbourhood     110527 non-null  object \n",
      " 7   Scholarship       110527 non-null  int64  \n",
      " 8   Hipertension      110527 non-null  int64  \n",
      " 9   Diabetes          110527 non-null  int64  \n",
      " 10  Alcoholism        110527 non-null  int64  \n",
      " 11  Handcap           110527 non-null  int64  \n",
      " 12  SMS_received      110527 non-null  int64  \n",
      " 13  No-show           110527 non-null  object \n",
      " 14  Schedule Time     110527 non-null  object \n",
      " 15  Appointment Time  110527 non-null  object \n",
      "dtypes: float64(1), int64(8), object(7)\n",
      "memory usage: 13.5+ MB\n"
     ]
    }
   ],
   "source": [
    "#Solving Schedule day problem by splitting it into 2 columns\n",
    "df['Schedule Time'] = pd.to_datetime(df['ScheduledDay'], format='%Y-%m-%d').dt.strftime('%r')\n",
    "df['ScheduledDay'] = pd.to_datetime(df['ScheduledDay'], format='%Y-%m-%d').dt.strftime('%Y-%m-%d')\n",
    "#Splittign apointmnent time now\n",
    "df['Appointment Time'] = pd.to_datetime(df['AppointmentDay'], format='%Y-%m-%d').dt.strftime('%r')\n",
    "df['AppointmentDay'] = pd.to_datetime(df['AppointmentDay'], format='%Y-%m-%d').dt.strftime('%Y-%m-%d')\n",
    "\n",
    "df.info()"
   ]
  },
  {
   "cell_type": "markdown",
   "id": "2c1ba6fc",
   "metadata": {},
   "source": [
    "**Now we must do some formatting with the columns labels**"
   ]
  },
  {
   "cell_type": "code",
   "execution_count": 6,
   "id": "0b7452d9",
   "metadata": {},
   "outputs": [
    {
     "data": {
      "text/plain": [
       "Index(['patientid', 'appointmentid', 'gender', 'scheduledday',\n",
       "       'appointmentday', 'age', 'neighbourhood', 'scholarship', 'hipertension',\n",
       "       'diabetes', 'alcoholism', 'handcap', 'sms_received', 'showedup',\n",
       "       'schedule_time', 'appointment_time'],\n",
       "      dtype='object')"
      ]
     },
     "execution_count": 6,
     "metadata": {},
     "output_type": "execute_result"
    }
   ],
   "source": [
    "#Lets put a standard formatting on the column names\n",
    "df.rename(columns= lambda x: x.lower().replace(' ','_'), inplace=True)\n",
    "#Now I'll change the no-show columns formatting and values in order to make it less confusing\n",
    "df.rename(columns={'no-show':'showedup'},inplace=True)\n",
    "#Lets change the column values to a binary type 0-1\n",
    "df['showedup'].replace('Yes',' ',inplace=True)\n",
    "df['showedup'].replace('No','1',inplace=True)\n",
    "df['showedup'].replace(' ','0',inplace=True)\n",
    "df['showedup'] = df.showedup.astype('int64')\n",
    "\n",
    "df.columns"
   ]
  },
  {
   "cell_type": "markdown",
   "id": "03c2b646",
   "metadata": {},
   "source": [
    "**Lets continue our formatting**"
   ]
  },
  {
   "cell_type": "code",
   "execution_count": 7,
   "id": "f9efe319",
   "metadata": {},
   "outputs": [],
   "source": [
    "#It looks like our appointment_time is always the same so let's remove this column since it wont be any useful\n",
    "df.appointment_time.unique()\n",
    "df.drop(columns='appointment_time',inplace=True)"
   ]
  },
  {
   "cell_type": "code",
   "execution_count": 8,
   "id": "ed81f1eb",
   "metadata": {},
   "outputs": [
    {
     "data": {
      "text/html": [
       "<div>\n",
       "<style scoped>\n",
       "    .dataframe tbody tr th:only-of-type {\n",
       "        vertical-align: middle;\n",
       "    }\n",
       "\n",
       "    .dataframe tbody tr th {\n",
       "        vertical-align: top;\n",
       "    }\n",
       "\n",
       "    .dataframe thead th {\n",
       "        text-align: right;\n",
       "    }\n",
       "</style>\n",
       "<table border=\"1\" class=\"dataframe\">\n",
       "  <thead>\n",
       "    <tr style=\"text-align: right;\">\n",
       "      <th></th>\n",
       "      <th>patientid</th>\n",
       "      <th>appointmentid</th>\n",
       "      <th>age</th>\n",
       "      <th>scholarship</th>\n",
       "      <th>hipertension</th>\n",
       "      <th>diabetes</th>\n",
       "      <th>alcoholism</th>\n",
       "      <th>handcap</th>\n",
       "      <th>sms_received</th>\n",
       "      <th>showedup</th>\n",
       "    </tr>\n",
       "  </thead>\n",
       "  <tbody>\n",
       "    <tr>\n",
       "      <th>count</th>\n",
       "      <td>1.105270e+05</td>\n",
       "      <td>1.105270e+05</td>\n",
       "      <td>110527.000000</td>\n",
       "      <td>110527.000000</td>\n",
       "      <td>110527.000000</td>\n",
       "      <td>110527.000000</td>\n",
       "      <td>110527.000000</td>\n",
       "      <td>110527.000000</td>\n",
       "      <td>110527.000000</td>\n",
       "      <td>110527.000000</td>\n",
       "    </tr>\n",
       "    <tr>\n",
       "      <th>mean</th>\n",
       "      <td>1.474963e+14</td>\n",
       "      <td>5.675305e+06</td>\n",
       "      <td>37.088874</td>\n",
       "      <td>0.098266</td>\n",
       "      <td>0.197246</td>\n",
       "      <td>0.071865</td>\n",
       "      <td>0.030400</td>\n",
       "      <td>0.022248</td>\n",
       "      <td>0.321026</td>\n",
       "      <td>0.798067</td>\n",
       "    </tr>\n",
       "    <tr>\n",
       "      <th>std</th>\n",
       "      <td>2.560949e+14</td>\n",
       "      <td>7.129575e+04</td>\n",
       "      <td>23.110205</td>\n",
       "      <td>0.297675</td>\n",
       "      <td>0.397921</td>\n",
       "      <td>0.258265</td>\n",
       "      <td>0.171686</td>\n",
       "      <td>0.161543</td>\n",
       "      <td>0.466873</td>\n",
       "      <td>0.401444</td>\n",
       "    </tr>\n",
       "    <tr>\n",
       "      <th>min</th>\n",
       "      <td>3.921784e+04</td>\n",
       "      <td>5.030230e+06</td>\n",
       "      <td>-1.000000</td>\n",
       "      <td>0.000000</td>\n",
       "      <td>0.000000</td>\n",
       "      <td>0.000000</td>\n",
       "      <td>0.000000</td>\n",
       "      <td>0.000000</td>\n",
       "      <td>0.000000</td>\n",
       "      <td>0.000000</td>\n",
       "    </tr>\n",
       "    <tr>\n",
       "      <th>25%</th>\n",
       "      <td>4.172614e+12</td>\n",
       "      <td>5.640286e+06</td>\n",
       "      <td>18.000000</td>\n",
       "      <td>0.000000</td>\n",
       "      <td>0.000000</td>\n",
       "      <td>0.000000</td>\n",
       "      <td>0.000000</td>\n",
       "      <td>0.000000</td>\n",
       "      <td>0.000000</td>\n",
       "      <td>1.000000</td>\n",
       "    </tr>\n",
       "    <tr>\n",
       "      <th>50%</th>\n",
       "      <td>3.173184e+13</td>\n",
       "      <td>5.680573e+06</td>\n",
       "      <td>37.000000</td>\n",
       "      <td>0.000000</td>\n",
       "      <td>0.000000</td>\n",
       "      <td>0.000000</td>\n",
       "      <td>0.000000</td>\n",
       "      <td>0.000000</td>\n",
       "      <td>0.000000</td>\n",
       "      <td>1.000000</td>\n",
       "    </tr>\n",
       "    <tr>\n",
       "      <th>75%</th>\n",
       "      <td>9.439172e+13</td>\n",
       "      <td>5.725524e+06</td>\n",
       "      <td>55.000000</td>\n",
       "      <td>0.000000</td>\n",
       "      <td>0.000000</td>\n",
       "      <td>0.000000</td>\n",
       "      <td>0.000000</td>\n",
       "      <td>0.000000</td>\n",
       "      <td>1.000000</td>\n",
       "      <td>1.000000</td>\n",
       "    </tr>\n",
       "    <tr>\n",
       "      <th>max</th>\n",
       "      <td>9.999816e+14</td>\n",
       "      <td>5.790484e+06</td>\n",
       "      <td>115.000000</td>\n",
       "      <td>1.000000</td>\n",
       "      <td>1.000000</td>\n",
       "      <td>1.000000</td>\n",
       "      <td>1.000000</td>\n",
       "      <td>4.000000</td>\n",
       "      <td>1.000000</td>\n",
       "      <td>1.000000</td>\n",
       "    </tr>\n",
       "  </tbody>\n",
       "</table>\n",
       "</div>"
      ],
      "text/plain": [
       "          patientid  appointmentid            age    scholarship  \\\n",
       "count  1.105270e+05   1.105270e+05  110527.000000  110527.000000   \n",
       "mean   1.474963e+14   5.675305e+06      37.088874       0.098266   \n",
       "std    2.560949e+14   7.129575e+04      23.110205       0.297675   \n",
       "min    3.921784e+04   5.030230e+06      -1.000000       0.000000   \n",
       "25%    4.172614e+12   5.640286e+06      18.000000       0.000000   \n",
       "50%    3.173184e+13   5.680573e+06      37.000000       0.000000   \n",
       "75%    9.439172e+13   5.725524e+06      55.000000       0.000000   \n",
       "max    9.999816e+14   5.790484e+06     115.000000       1.000000   \n",
       "\n",
       "        hipertension       diabetes     alcoholism        handcap  \\\n",
       "count  110527.000000  110527.000000  110527.000000  110527.000000   \n",
       "mean        0.197246       0.071865       0.030400       0.022248   \n",
       "std         0.397921       0.258265       0.171686       0.161543   \n",
       "min         0.000000       0.000000       0.000000       0.000000   \n",
       "25%         0.000000       0.000000       0.000000       0.000000   \n",
       "50%         0.000000       0.000000       0.000000       0.000000   \n",
       "75%         0.000000       0.000000       0.000000       0.000000   \n",
       "max         1.000000       1.000000       1.000000       4.000000   \n",
       "\n",
       "        sms_received       showedup  \n",
       "count  110527.000000  110527.000000  \n",
       "mean        0.321026       0.798067  \n",
       "std         0.466873       0.401444  \n",
       "min         0.000000       0.000000  \n",
       "25%         0.000000       1.000000  \n",
       "50%         0.000000       1.000000  \n",
       "75%         1.000000       1.000000  \n",
       "max         1.000000       1.000000  "
      ]
     },
     "execution_count": 8,
     "metadata": {},
     "output_type": "execute_result"
    }
   ],
   "source": [
    "df.describe()"
   ]
  },
  {
   "cell_type": "markdown",
   "id": "18ef1db1",
   "metadata": {},
   "source": [
    "It looks like our data has a problem at the column age since the minimum value is -1 and such age is impossible. Now I'll investigate how many rows has this value and determine if we will treat this data or remove it."
   ]
  },
  {
   "cell_type": "code",
   "execution_count": 9,
   "id": "14278484",
   "metadata": {},
   "outputs": [
    {
     "data": {
      "text/html": [
       "<div>\n",
       "<style scoped>\n",
       "    .dataframe tbody tr th:only-of-type {\n",
       "        vertical-align: middle;\n",
       "    }\n",
       "\n",
       "    .dataframe tbody tr th {\n",
       "        vertical-align: top;\n",
       "    }\n",
       "\n",
       "    .dataframe thead th {\n",
       "        text-align: right;\n",
       "    }\n",
       "</style>\n",
       "<table border=\"1\" class=\"dataframe\">\n",
       "  <thead>\n",
       "    <tr style=\"text-align: right;\">\n",
       "      <th></th>\n",
       "      <th>patientid</th>\n",
       "      <th>appointmentid</th>\n",
       "      <th>age</th>\n",
       "      <th>scholarship</th>\n",
       "      <th>hipertension</th>\n",
       "      <th>diabetes</th>\n",
       "      <th>alcoholism</th>\n",
       "      <th>handcap</th>\n",
       "      <th>sms_received</th>\n",
       "      <th>showedup</th>\n",
       "    </tr>\n",
       "  </thead>\n",
       "  <tbody>\n",
       "    <tr>\n",
       "      <th>count</th>\n",
       "      <td>3.539000e+03</td>\n",
       "      <td>3.539000e+03</td>\n",
       "      <td>3539.0</td>\n",
       "      <td>3539.000000</td>\n",
       "      <td>3539.0</td>\n",
       "      <td>3539.0</td>\n",
       "      <td>3539.0</td>\n",
       "      <td>3539.000000</td>\n",
       "      <td>3539.000000</td>\n",
       "      <td>3539.000000</td>\n",
       "    </tr>\n",
       "    <tr>\n",
       "      <th>mean</th>\n",
       "      <td>1.539027e+14</td>\n",
       "      <td>5.671375e+06</td>\n",
       "      <td>0.0</td>\n",
       "      <td>0.014693</td>\n",
       "      <td>0.0</td>\n",
       "      <td>0.0</td>\n",
       "      <td>0.0</td>\n",
       "      <td>0.000283</td>\n",
       "      <td>0.253461</td>\n",
       "      <td>0.819441</td>\n",
       "    </tr>\n",
       "    <tr>\n",
       "      <th>std</th>\n",
       "      <td>2.640133e+14</td>\n",
       "      <td>7.005467e+04</td>\n",
       "      <td>0.0</td>\n",
       "      <td>0.120340</td>\n",
       "      <td>0.0</td>\n",
       "      <td>0.0</td>\n",
       "      <td>0.0</td>\n",
       "      <td>0.016810</td>\n",
       "      <td>0.435054</td>\n",
       "      <td>0.384707</td>\n",
       "    </tr>\n",
       "    <tr>\n",
       "      <th>min</th>\n",
       "      <td>2.699191e+08</td>\n",
       "      <td>5.317393e+06</td>\n",
       "      <td>0.0</td>\n",
       "      <td>0.000000</td>\n",
       "      <td>0.0</td>\n",
       "      <td>0.0</td>\n",
       "      <td>0.0</td>\n",
       "      <td>0.000000</td>\n",
       "      <td>0.000000</td>\n",
       "      <td>0.000000</td>\n",
       "    </tr>\n",
       "    <tr>\n",
       "      <th>25%</th>\n",
       "      <td>4.154026e+12</td>\n",
       "      <td>5.634852e+06</td>\n",
       "      <td>0.0</td>\n",
       "      <td>0.000000</td>\n",
       "      <td>0.0</td>\n",
       "      <td>0.0</td>\n",
       "      <td>0.0</td>\n",
       "      <td>0.000000</td>\n",
       "      <td>0.000000</td>\n",
       "      <td>1.000000</td>\n",
       "    </tr>\n",
       "    <tr>\n",
       "      <th>50%</th>\n",
       "      <td>3.288134e+13</td>\n",
       "      <td>5.675158e+06</td>\n",
       "      <td>0.0</td>\n",
       "      <td>0.000000</td>\n",
       "      <td>0.0</td>\n",
       "      <td>0.0</td>\n",
       "      <td>0.0</td>\n",
       "      <td>0.000000</td>\n",
       "      <td>0.000000</td>\n",
       "      <td>1.000000</td>\n",
       "    </tr>\n",
       "    <tr>\n",
       "      <th>75%</th>\n",
       "      <td>9.626769e+13</td>\n",
       "      <td>5.722168e+06</td>\n",
       "      <td>0.0</td>\n",
       "      <td>0.000000</td>\n",
       "      <td>0.0</td>\n",
       "      <td>0.0</td>\n",
       "      <td>0.0</td>\n",
       "      <td>0.000000</td>\n",
       "      <td>1.000000</td>\n",
       "      <td>1.000000</td>\n",
       "    </tr>\n",
       "    <tr>\n",
       "      <th>max</th>\n",
       "      <td>9.978457e+14</td>\n",
       "      <td>5.790135e+06</td>\n",
       "      <td>0.0</td>\n",
       "      <td>1.000000</td>\n",
       "      <td>0.0</td>\n",
       "      <td>0.0</td>\n",
       "      <td>0.0</td>\n",
       "      <td>1.000000</td>\n",
       "      <td>1.000000</td>\n",
       "      <td>1.000000</td>\n",
       "    </tr>\n",
       "  </tbody>\n",
       "</table>\n",
       "</div>"
      ],
      "text/plain": [
       "          patientid  appointmentid     age  scholarship  hipertension  \\\n",
       "count  3.539000e+03   3.539000e+03  3539.0  3539.000000        3539.0   \n",
       "mean   1.539027e+14   5.671375e+06     0.0     0.014693           0.0   \n",
       "std    2.640133e+14   7.005467e+04     0.0     0.120340           0.0   \n",
       "min    2.699191e+08   5.317393e+06     0.0     0.000000           0.0   \n",
       "25%    4.154026e+12   5.634852e+06     0.0     0.000000           0.0   \n",
       "50%    3.288134e+13   5.675158e+06     0.0     0.000000           0.0   \n",
       "75%    9.626769e+13   5.722168e+06     0.0     0.000000           0.0   \n",
       "max    9.978457e+14   5.790135e+06     0.0     1.000000           0.0   \n",
       "\n",
       "       diabetes  alcoholism      handcap  sms_received     showedup  \n",
       "count    3539.0      3539.0  3539.000000   3539.000000  3539.000000  \n",
       "mean        0.0         0.0     0.000283      0.253461     0.819441  \n",
       "std         0.0         0.0     0.016810      0.435054     0.384707  \n",
       "min         0.0         0.0     0.000000      0.000000     0.000000  \n",
       "25%         0.0         0.0     0.000000      0.000000     1.000000  \n",
       "50%         0.0         0.0     0.000000      0.000000     1.000000  \n",
       "75%         0.0         0.0     0.000000      1.000000     1.000000  \n",
       "max         0.0         0.0     1.000000      1.000000     1.000000  "
      ]
     },
     "execution_count": 9,
     "metadata": {},
     "output_type": "execute_result"
    }
   ],
   "source": [
    "len(df[df['age'] == -1]) #It looks like it's only one row so I'll proceed and remove it\n",
    "\n",
    "df = df[df['age'] >= 0] #Now we must investigate the rows where the age is 0\n",
    "\n",
    "#len(df[df['age'] == 0]) #There's 3539 rows with such value!\n",
    "\n",
    "df[df['age'] == 0].describe()"
   ]
  },
  {
   "cell_type": "markdown",
   "id": "a1aa905a",
   "metadata": {},
   "source": [
    "I'm a brazilian and I can make an statement that this \"Scholarship\" it's actually a social welfare programm that provides social and economic benefits for the poor, and therefore it is possible to have people with age 0 on this dataset since it means that they are babies born within a family that is member of this programm. Therefore we will proceed with these rows on the data."
   ]
  },
  {
   "cell_type": "markdown",
   "id": "3c853fe6",
   "metadata": {},
   "source": [
    "**Creating a function for our graph modelling**"
   ]
  },
  {
   "cell_type": "code",
   "execution_count": 220,
   "id": "4607a013",
   "metadata": {},
   "outputs": [],
   "source": [
    "def graph(data, y):\n",
    "    \n",
    "    x = pd.DataFrame(data.groupby(y).patientid.count()) / data.patientid.count()\n",
    "    return print('The probability of {}'.format(x.index.names) + \n",
    "                 ' {} '.format(x.index[0]) + \n",
    "                 'is {}'.format(round(float(x.values[0]),2)) + \n",
    "                 ' and the other is {}'.format(round(float(1-x.values[0]),2)))"
   ]
  },
  {
   "cell_type": "markdown",
   "id": "187373fd",
   "metadata": {},
   "source": [
    "# EDA\n",
    "\n",
    "Let's break this investigation into parts.\n",
    "Firstly let's broadly explore our dataset.\n",
    "\n",
    "01. What's the distribution of age and gender? \n",
    "02. How many people has been contemplated by the scholarship?\n",
    "03. How many people has any kind of health problem or disability? \n",
    "04. How many people showed up at their appointments? Did someone make more than one appointment? "
   ]
  },
  {
   "cell_type": "code",
   "execution_count": 314,
   "id": "7e9c130f",
   "metadata": {},
   "outputs": [
    {
     "name": "stdout",
     "output_type": "stream",
     "text": [
      "The statistics for showedup x gender is \n",
      "                 patientid\n",
      "showedup gender           \n",
      "0        F        0.132041\n",
      "         M        0.069893\n",
      "1        F        0.517932\n",
      "         M        0.280133\n",
      "The probability of ['showedup'] 0 is 0.2 and the other is 0.8\n",
      "The probability of ['gender'] F is 0.65 and the other is 0.35\n",
      "The probability of ['scholarship'] 0 is 0.9 and the other is 0.1\n"
     ]
    },
    {
     "data": {
      "text/plain": [
       "array([<AxesSubplot:ylabel='patientid'>], dtype=object)"
      ]
     },
     "execution_count": 314,
     "metadata": {},
     "output_type": "execute_result"
    },
    {
     "data": {
      "image/png": "[encoded data removed]",
      "text/plain": [
       "<Figure size 864x864 with 4 Axes>"
      ]
     },
     "metadata": {
      "needs_background": "light"
     },
     "output_type": "display_data"
    }
   ],
   "source": [
    "graf1 = pd.DataFrame(df.groupby(['showedup','gender']).patientid.count())\n",
    "graf2 = pd.DataFrame(df.groupby(['showedup']).patientid.count())\n",
    "graf3 = pd.DataFrame(df.groupby('gender').patientid.count())\n",
    "graf4 = pd.DataFrame(df.groupby('scholarship').patientid.count())\n",
    "#graf1.plot(kind='scatter', x='showedup', y='patientid')\n",
    "fig, axes = plt.subplots(nrows=2, ncols=2)\n",
    "\n",
    "print('The statistics for showedup x gender is ')\n",
    "print(graf1/graf1.sum())\n",
    "\n",
    "for x in ['showedup','gender','scholarship']:\n",
    "    graph(df, x)\n",
    "\n",
    "graf1.plot(kind='bar', figsize=[12,12], ax=axes[0,0])\n",
    "graf2.plot(kind='bar', figsize=[12,12], ax=axes[0,1])\n",
    "graf3.plot(kind='pie', figsize=[12,12], ax=axes[1,0], subplots=True)\n",
    "graf4.plot(kind='pie', figsize=[12,12], ax=axes[1,1], subplots=True)"
   ]
  },
  {
   "cell_type": "code",
   "execution_count": 364,
   "id": "9e14c5fd",
   "metadata": {},
   "outputs": [
    {
     "name": "stderr",
     "output_type": "stream",
     "text": [
      "C:\\Users\\felipe.silverio_ifoo\\anaconda3\\lib\\site-packages\\seaborn\\distributions.py:2557: FutureWarning: `distplot` is a deprecated function and will be removed in a future version. Please adapt your code to use either `displot` (a figure-level function with similar flexibility) or `histplot` (an axes-level function for histograms).\n",
      "  warnings.warn(msg, FutureWarning)\n"
     ]
    },
    {
     "data": {
      "text/plain": [
       "<AxesSubplot:xlabel='age', ylabel='Density'>"
      ]
     },
     "execution_count": 364,
     "metadata": {},
     "output_type": "execute_result"
    },
    {
     "data": {
      "image/png": "[encoded data removed]",
      "text/plain": [
       "<Figure size 432x288 with 1 Axes>"
      ]
     },
     "metadata": {},
     "output_type": "display_data"
    }
   ],
   "source": [
    "#df.age.plot(kind='hist')\n",
    "from scipy.stats import norm\n",
    "\n",
    "sns.distplot(df.age, fit=norm, bins=10)"
   ]
  },
  {
   "cell_type": "markdown",
   "id": "3ae3f1c6",
   "metadata": {},
   "source": [
    "It seems like most of our data is represented by Female (~60%). \n",
    "\n",
    "The share of people that showed up on their appointments is ~80% which is composed by 51% of Females and 28% of Males.\n",
    "\n",
    "Only ~10% of the people is has a scholarship.\n",
    "\n",
    "Our age distribution tends to follow a normal distribution, although it may need some transformations to turn it into a proper normal distribution. It looks like most of the patients are within 20-60 years old, and there's a peak in the 0 years old for a reason.\n",
    "\n",
    "Now that we checked the distribution among the profile of our attendee and non-attended, we must check the diseases/malfunctions distribution"
   ]
  },
  {
   "cell_type": "code",
   "execution_count": 315,
   "id": "62b204af",
   "metadata": {},
   "outputs": [
    {
     "name": "stdout",
     "output_type": "stream",
     "text": [
      "The probability of ['hipertension'] 0 is 0.8 and the other is 0.2\n",
      "The probability of ['diabetes'] 0 is 0.93 and the other is 0.07\n",
      "The probability of ['alcoholism'] 0 is 0.97 and the other is 0.03\n",
      "The probability of ['handcap'] 0 is 0.98 and the other is 0.02\n"
     ]
    },
    {
     "data": {
      "text/plain": [
       "<AxesSubplot:xlabel='handcap'>"
      ]
     },
     "execution_count": 315,
     "metadata": {},
     "output_type": "execute_result"
    },
    {
     "data": {
      "image/png": "[encoded data removed]",
      "text/plain": [
       "<Figure size 864x864 with 4 Axes>"
      ]
     },
     "metadata": {
      "needs_background": "light"
     },
     "output_type": "display_data"
    }
   ],
   "source": [
    "graf1 = pd.DataFrame(df.groupby(['hipertension']).patientid.count())\n",
    "graf2 = pd.DataFrame(df.groupby(['diabetes']).patientid.count())\n",
    "graf3 = pd.DataFrame(df.groupby('alcoholism').patientid.count())\n",
    "graf4 = pd.DataFrame(df.groupby('handcap').patientid.count())\n",
    "\n",
    "#graf1.plot(kind='scatter', x='showedup', y='patientid')\n",
    "\n",
    "fig, axes = plt.subplots(nrows=2, ncols=2)\n",
    "\n",
    "for x in ['hipertension','diabetes','alcoholism','handcap']:\n",
    "    graph(df,x)\n",
    "\n",
    "graf1.plot(kind='bar', figsize=[12,12], ax=axes[0,0])\n",
    "graf2.plot(kind='bar', figsize=[12,12], ax=axes[0,1])\n",
    "graf3.plot(kind='pie', figsize=[12,12], ax=axes[1,0], subplots=True)\n",
    "graf4.plot(kind='bar', figsize=[12,12], ax=axes[1,1])"
   ]
  },
  {
   "cell_type": "markdown",
   "id": "8bbdf148",
   "metadata": {},
   "source": [
    "Most people (~80%) doesnt have hipertension.\n",
    "\n",
    "Most people (~90%) doesnt have diabetes\n",
    "\n",
    "Most people (~96%) doesnt have alcoholism\n",
    "\n",
    "Most people (~97%) are not handcap and among those that are, most has only one handcap (1.8%)"
   ]
  },
  {
   "cell_type": "code",
   "execution_count": 267,
   "id": "963fd258",
   "metadata": {},
   "outputs": [
    {
     "name": "stdout",
     "output_type": "stream",
     "text": [
      "Share of duplicated appointments: 0.43634981814233753\n"
     ]
    }
   ],
   "source": [
    "#How many people had more than one appointment?\n",
    "\n",
    "print('Share of duplicated appointments: {}'.format(df.patientid.duplicated().sum()/df.patientid.count()))"
   ]
  },
  {
   "cell_type": "markdown",
   "id": "2ad19342",
   "metadata": {},
   "source": [
    "Now that we know the share of diseases/malfunctions and demographics of our patients, I guess we should take a look at the profiles that has more than one appointments."
   ]
  },
  {
   "cell_type": "code",
   "execution_count": 305,
   "id": "1bcb2bca",
   "metadata": {},
   "outputs": [
    {
     "data": {
      "text/html": [
       "<div>\n",
       "<style scoped>\n",
       "    .dataframe tbody tr th:only-of-type {\n",
       "        vertical-align: middle;\n",
       "    }\n",
       "\n",
       "    .dataframe tbody tr th {\n",
       "        vertical-align: top;\n",
       "    }\n",
       "\n",
       "    .dataframe thead th {\n",
       "        text-align: right;\n",
       "    }\n",
       "</style>\n",
       "<table border=\"1\" class=\"dataframe\">\n",
       "  <thead>\n",
       "    <tr style=\"text-align: right;\">\n",
       "      <th></th>\n",
       "      <th>patientid</th>\n",
       "      <th>appointmentid</th>\n",
       "      <th>age</th>\n",
       "      <th>scholarship</th>\n",
       "      <th>hipertension</th>\n",
       "      <th>diabetes</th>\n",
       "      <th>alcoholism</th>\n",
       "      <th>handcap</th>\n",
       "      <th>sms_received</th>\n",
       "      <th>showedup</th>\n",
       "    </tr>\n",
       "  </thead>\n",
       "  <tbody>\n",
       "    <tr>\n",
       "      <th>count</th>\n",
       "      <td>4.822800e+04</td>\n",
       "      <td>4.822800e+04</td>\n",
       "      <td>48228.000000</td>\n",
       "      <td>48228.000000</td>\n",
       "      <td>48228.000000</td>\n",
       "      <td>48228.000000</td>\n",
       "      <td>48228.000000</td>\n",
       "      <td>48228.000000</td>\n",
       "      <td>48228.000000</td>\n",
       "      <td>48228.000000</td>\n",
       "    </tr>\n",
       "    <tr>\n",
       "      <th>mean</th>\n",
       "      <td>1.479163e+14</td>\n",
       "      <td>5.688684e+06</td>\n",
       "      <td>37.584888</td>\n",
       "      <td>0.105188</td>\n",
       "      <td>0.198204</td>\n",
       "      <td>0.073132</td>\n",
       "      <td>0.038442</td>\n",
       "      <td>0.025006</td>\n",
       "      <td>0.312847</td>\n",
       "      <td>0.790039</td>\n",
       "    </tr>\n",
       "    <tr>\n",
       "      <th>std</th>\n",
       "      <td>2.576207e+14</td>\n",
       "      <td>6.531036e+04</td>\n",
       "      <td>22.545084</td>\n",
       "      <td>0.306799</td>\n",
       "      <td>0.398651</td>\n",
       "      <td>0.260355</td>\n",
       "      <td>0.192264</td>\n",
       "      <td>0.169516</td>\n",
       "      <td>0.463658</td>\n",
       "      <td>0.407285</td>\n",
       "    </tr>\n",
       "    <tr>\n",
       "      <th>min</th>\n",
       "      <td>2.263866e+07</td>\n",
       "      <td>5.134224e+06</td>\n",
       "      <td>0.000000</td>\n",
       "      <td>0.000000</td>\n",
       "      <td>0.000000</td>\n",
       "      <td>0.000000</td>\n",
       "      <td>0.000000</td>\n",
       "      <td>0.000000</td>\n",
       "      <td>0.000000</td>\n",
       "      <td>0.000000</td>\n",
       "    </tr>\n",
       "    <tr>\n",
       "      <th>25%</th>\n",
       "      <td>4.166843e+12</td>\n",
       "      <td>5.653476e+06</td>\n",
       "      <td>19.000000</td>\n",
       "      <td>0.000000</td>\n",
       "      <td>0.000000</td>\n",
       "      <td>0.000000</td>\n",
       "      <td>0.000000</td>\n",
       "      <td>0.000000</td>\n",
       "      <td>0.000000</td>\n",
       "      <td>1.000000</td>\n",
       "    </tr>\n",
       "    <tr>\n",
       "      <th>50%</th>\n",
       "      <td>3.136367e+13</td>\n",
       "      <td>5.691898e+06</td>\n",
       "      <td>38.000000</td>\n",
       "      <td>0.000000</td>\n",
       "      <td>0.000000</td>\n",
       "      <td>0.000000</td>\n",
       "      <td>0.000000</td>\n",
       "      <td>0.000000</td>\n",
       "      <td>0.000000</td>\n",
       "      <td>1.000000</td>\n",
       "    </tr>\n",
       "    <tr>\n",
       "      <th>75%</th>\n",
       "      <td>9.359258e+13</td>\n",
       "      <td>5.738428e+06</td>\n",
       "      <td>55.000000</td>\n",
       "      <td>0.000000</td>\n",
       "      <td>0.000000</td>\n",
       "      <td>0.000000</td>\n",
       "      <td>0.000000</td>\n",
       "      <td>0.000000</td>\n",
       "      <td>1.000000</td>\n",
       "      <td>1.000000</td>\n",
       "    </tr>\n",
       "    <tr>\n",
       "      <th>max</th>\n",
       "      <td>9.999320e+14</td>\n",
       "      <td>5.790481e+06</td>\n",
       "      <td>115.000000</td>\n",
       "      <td>1.000000</td>\n",
       "      <td>1.000000</td>\n",
       "      <td>1.000000</td>\n",
       "      <td>1.000000</td>\n",
       "      <td>3.000000</td>\n",
       "      <td>1.000000</td>\n",
       "      <td>1.000000</td>\n",
       "    </tr>\n",
       "  </tbody>\n",
       "</table>\n",
       "</div>"
      ],
      "text/plain": [
       "          patientid  appointmentid           age   scholarship  hipertension  \\\n",
       "count  4.822800e+04   4.822800e+04  48228.000000  48228.000000  48228.000000   \n",
       "mean   1.479163e+14   5.688684e+06     37.584888      0.105188      0.198204   \n",
       "std    2.576207e+14   6.531036e+04     22.545084      0.306799      0.398651   \n",
       "min    2.263866e+07   5.134224e+06      0.000000      0.000000      0.000000   \n",
       "25%    4.166843e+12   5.653476e+06     19.000000      0.000000      0.000000   \n",
       "50%    3.136367e+13   5.691898e+06     38.000000      0.000000      0.000000   \n",
       "75%    9.359258e+13   5.738428e+06     55.000000      0.000000      0.000000   \n",
       "max    9.999320e+14   5.790481e+06    115.000000      1.000000      1.000000   \n",
       "\n",
       "           diabetes    alcoholism       handcap  sms_received      showedup  \n",
       "count  48228.000000  48228.000000  48228.000000  48228.000000  48228.000000  \n",
       "mean       0.073132      0.038442      0.025006      0.312847      0.790039  \n",
       "std        0.260355      0.192264      0.169516      0.463658      0.407285  \n",
       "min        0.000000      0.000000      0.000000      0.000000      0.000000  \n",
       "25%        0.000000      0.000000      0.000000      0.000000      1.000000  \n",
       "50%        0.000000      0.000000      0.000000      0.000000      1.000000  \n",
       "75%        0.000000      0.000000      0.000000      1.000000      1.000000  \n",
       "max        1.000000      1.000000      3.000000      1.000000      1.000000  "
      ]
     },
     "execution_count": 305,
     "metadata": {},
     "output_type": "execute_result"
    }
   ],
   "source": [
    "mask = df.patientid.duplicated()\n",
    "rep = df.where(mask).dropna().reset_index(drop=True)\n",
    "rep.describe()"
   ]
  },
  {
   "cell_type": "code",
   "execution_count": 327,
   "id": "9093a4fe",
   "metadata": {
    "scrolled": true
   },
   "outputs": [
    {
     "data": {
      "text/html": [
       "<div>\n",
       "<style scoped>\n",
       "    .dataframe tbody tr th:only-of-type {\n",
       "        vertical-align: middle;\n",
       "    }\n",
       "\n",
       "    .dataframe tbody tr th {\n",
       "        vertical-align: top;\n",
       "    }\n",
       "\n",
       "    .dataframe thead th {\n",
       "        text-align: right;\n",
       "    }\n",
       "</style>\n",
       "<table border=\"1\" class=\"dataframe\">\n",
       "  <thead>\n",
       "    <tr style=\"text-align: right;\">\n",
       "      <th></th>\n",
       "      <th>patientid</th>\n",
       "      <th>appointmentid</th>\n",
       "      <th>age</th>\n",
       "      <th>scholarship</th>\n",
       "      <th>hipertension</th>\n",
       "      <th>diabetes</th>\n",
       "      <th>alcoholism</th>\n",
       "      <th>handcap</th>\n",
       "      <th>sms_received</th>\n",
       "      <th>showedup</th>\n",
       "    </tr>\n",
       "  </thead>\n",
       "  <tbody>\n",
       "    <tr>\n",
       "      <th>count</th>\n",
       "      <td>3.791900e+04</td>\n",
       "      <td>3.791900e+04</td>\n",
       "      <td>37919.000000</td>\n",
       "      <td>37919.000000</td>\n",
       "      <td>37919.000000</td>\n",
       "      <td>37919.000000</td>\n",
       "      <td>37919.000000</td>\n",
       "      <td>37919.000000</td>\n",
       "      <td>37919.000000</td>\n",
       "      <td>37919.000000</td>\n",
       "    </tr>\n",
       "    <tr>\n",
       "      <th>mean</th>\n",
       "      <td>1.475562e+14</td>\n",
       "      <td>5.668885e+06</td>\n",
       "      <td>36.785358</td>\n",
       "      <td>0.087239</td>\n",
       "      <td>0.197183</td>\n",
       "      <td>0.069411</td>\n",
       "      <td>0.022311</td>\n",
       "      <td>0.019146</td>\n",
       "      <td>0.335188</td>\n",
       "      <td>0.812284</td>\n",
       "    </tr>\n",
       "    <tr>\n",
       "      <th>std</th>\n",
       "      <td>2.552786e+14</td>\n",
       "      <td>7.748976e+04</td>\n",
       "      <td>23.830810</td>\n",
       "      <td>0.282188</td>\n",
       "      <td>0.397877</td>\n",
       "      <td>0.254155</td>\n",
       "      <td>0.147694</td>\n",
       "      <td>0.151482</td>\n",
       "      <td>0.472062</td>\n",
       "      <td>0.390490</td>\n",
       "    </tr>\n",
       "    <tr>\n",
       "      <th>min</th>\n",
       "      <td>3.921784e+04</td>\n",
       "      <td>5.134197e+06</td>\n",
       "      <td>0.000000</td>\n",
       "      <td>0.000000</td>\n",
       "      <td>0.000000</td>\n",
       "      <td>0.000000</td>\n",
       "      <td>0.000000</td>\n",
       "      <td>0.000000</td>\n",
       "      <td>0.000000</td>\n",
       "      <td>0.000000</td>\n",
       "    </tr>\n",
       "    <tr>\n",
       "      <th>25%</th>\n",
       "      <td>4.172303e+12</td>\n",
       "      <td>5.629585e+06</td>\n",
       "      <td>16.000000</td>\n",
       "      <td>0.000000</td>\n",
       "      <td>0.000000</td>\n",
       "      <td>0.000000</td>\n",
       "      <td>0.000000</td>\n",
       "      <td>0.000000</td>\n",
       "      <td>0.000000</td>\n",
       "      <td>1.000000</td>\n",
       "    </tr>\n",
       "    <tr>\n",
       "      <th>50%</th>\n",
       "      <td>3.195390e+13</td>\n",
       "      <td>5.676261e+06</td>\n",
       "      <td>37.000000</td>\n",
       "      <td>0.000000</td>\n",
       "      <td>0.000000</td>\n",
       "      <td>0.000000</td>\n",
       "      <td>0.000000</td>\n",
       "      <td>0.000000</td>\n",
       "      <td>0.000000</td>\n",
       "      <td>1.000000</td>\n",
       "    </tr>\n",
       "    <tr>\n",
       "      <th>75%</th>\n",
       "      <td>9.536816e+13</td>\n",
       "      <td>5.723145e+06</td>\n",
       "      <td>56.000000</td>\n",
       "      <td>0.000000</td>\n",
       "      <td>0.000000</td>\n",
       "      <td>0.000000</td>\n",
       "      <td>0.000000</td>\n",
       "      <td>0.000000</td>\n",
       "      <td>1.000000</td>\n",
       "      <td>1.000000</td>\n",
       "    </tr>\n",
       "    <tr>\n",
       "      <th>max</th>\n",
       "      <td>9.999816e+14</td>\n",
       "      <td>5.790484e+06</td>\n",
       "      <td>115.000000</td>\n",
       "      <td>1.000000</td>\n",
       "      <td>1.000000</td>\n",
       "      <td>1.000000</td>\n",
       "      <td>1.000000</td>\n",
       "      <td>4.000000</td>\n",
       "      <td>1.000000</td>\n",
       "      <td>1.000000</td>\n",
       "    </tr>\n",
       "  </tbody>\n",
       "</table>\n",
       "</div>"
      ],
      "text/plain": [
       "          patientid  appointmentid           age   scholarship  hipertension  \\\n",
       "count  3.791900e+04   3.791900e+04  37919.000000  37919.000000  37919.000000   \n",
       "mean   1.475562e+14   5.668885e+06     36.785358      0.087239      0.197183   \n",
       "std    2.552786e+14   7.748976e+04     23.830810      0.282188      0.397877   \n",
       "min    3.921784e+04   5.134197e+06      0.000000      0.000000      0.000000   \n",
       "25%    4.172303e+12   5.629585e+06     16.000000      0.000000      0.000000   \n",
       "50%    3.195390e+13   5.676261e+06     37.000000      0.000000      0.000000   \n",
       "75%    9.536816e+13   5.723145e+06     56.000000      0.000000      0.000000   \n",
       "max    9.999816e+14   5.790484e+06    115.000000      1.000000      1.000000   \n",
       "\n",
       "           diabetes    alcoholism       handcap  sms_received      showedup  \n",
       "count  37919.000000  37919.000000  37919.000000  37919.000000  37919.000000  \n",
       "mean       0.069411      0.022311      0.019146      0.335188      0.812284  \n",
       "std        0.254155      0.147694      0.151482      0.472062      0.390490  \n",
       "min        0.000000      0.000000      0.000000      0.000000      0.000000  \n",
       "25%        0.000000      0.000000      0.000000      0.000000      1.000000  \n",
       "50%        0.000000      0.000000      0.000000      0.000000      1.000000  \n",
       "75%        0.000000      0.000000      0.000000      1.000000      1.000000  \n",
       "max        1.000000      1.000000      4.000000      1.000000      1.000000  "
      ]
     },
     "execution_count": 327,
     "metadata": {},
     "output_type": "execute_result"
    }
   ],
   "source": [
    "single = df[~df['patientid'].isin(rep.patientid.values)]\n",
    "single.describe()"
   ]
  },
  {
   "cell_type": "markdown",
   "id": "87dbc19a",
   "metadata": {},
   "source": [
    "Looking at the data we have only 37919 people that didn't make more than one appointment, and we have 72607 that made more than one appointment, a total of 110526.\n",
    "\n",
    "Looking at the mean of both described tables above doesnt seems like there's much of a difference in most parameters."
   ]
  },
  {
   "cell_type": "code",
   "execution_count": 376,
   "id": "e9a7be39",
   "metadata": {},
   "outputs": [
    {
     "data": {
      "text/html": [
       "<div>\n",
       "<style scoped>\n",
       "    .dataframe tbody tr th:only-of-type {\n",
       "        vertical-align: middle;\n",
       "    }\n",
       "\n",
       "    .dataframe tbody tr th {\n",
       "        vertical-align: top;\n",
       "    }\n",
       "\n",
       "    .dataframe thead th {\n",
       "        text-align: right;\n",
       "    }\n",
       "</style>\n",
       "<table border=\"1\" class=\"dataframe\">\n",
       "  <thead>\n",
       "    <tr style=\"text-align: right;\">\n",
       "      <th></th>\n",
       "      <th>patientid</th>\n",
       "      <th>appointmentid</th>\n",
       "      <th>age</th>\n",
       "      <th>scholarship</th>\n",
       "      <th>hipertension</th>\n",
       "      <th>diabetes</th>\n",
       "      <th>alcoholism</th>\n",
       "      <th>handcap</th>\n",
       "      <th>sms_received</th>\n",
       "      <th>showedup</th>\n",
       "    </tr>\n",
       "  </thead>\n",
       "  <tbody>\n",
       "    <tr>\n",
       "      <th>count</th>\n",
       "      <td>2.630300e+04</td>\n",
       "      <td>2.630300e+04</td>\n",
       "      <td>26303.000000</td>\n",
       "      <td>26303.000000</td>\n",
       "      <td>26303.000000</td>\n",
       "      <td>26303.000000</td>\n",
       "      <td>26303.000000</td>\n",
       "      <td>26303.000000</td>\n",
       "      <td>26303.000000</td>\n",
       "      <td>26303.000000</td>\n",
       "    </tr>\n",
       "    <tr>\n",
       "      <th>mean</th>\n",
       "      <td>1.470031e+14</td>\n",
       "      <td>5.678956e+06</td>\n",
       "      <td>58.149223</td>\n",
       "      <td>0.092955</td>\n",
       "      <td>0.828841</td>\n",
       "      <td>0.301981</td>\n",
       "      <td>0.127742</td>\n",
       "      <td>0.084629</td>\n",
       "      <td>0.304566</td>\n",
       "      <td>0.821313</td>\n",
       "    </tr>\n",
       "    <tr>\n",
       "      <th>std</th>\n",
       "      <td>2.557095e+14</td>\n",
       "      <td>7.252072e+04</td>\n",
       "      <td>15.402416</td>\n",
       "      <td>0.290375</td>\n",
       "      <td>0.376655</td>\n",
       "      <td>0.459126</td>\n",
       "      <td>0.333809</td>\n",
       "      <td>0.291414</td>\n",
       "      <td>0.460232</td>\n",
       "      <td>0.383097</td>\n",
       "    </tr>\n",
       "    <tr>\n",
       "      <th>min</th>\n",
       "      <td>4.374176e+04</td>\n",
       "      <td>5.122866e+06</td>\n",
       "      <td>0.000000</td>\n",
       "      <td>0.000000</td>\n",
       "      <td>0.000000</td>\n",
       "      <td>0.000000</td>\n",
       "      <td>0.000000</td>\n",
       "      <td>0.000000</td>\n",
       "      <td>0.000000</td>\n",
       "      <td>0.000000</td>\n",
       "    </tr>\n",
       "    <tr>\n",
       "      <th>25%</th>\n",
       "      <td>4.258696e+12</td>\n",
       "      <td>5.645140e+06</td>\n",
       "      <td>49.000000</td>\n",
       "      <td>0.000000</td>\n",
       "      <td>1.000000</td>\n",
       "      <td>0.000000</td>\n",
       "      <td>0.000000</td>\n",
       "      <td>0.000000</td>\n",
       "      <td>0.000000</td>\n",
       "      <td>1.000000</td>\n",
       "    </tr>\n",
       "    <tr>\n",
       "      <th>50%</th>\n",
       "      <td>3.265647e+13</td>\n",
       "      <td>5.683982e+06</td>\n",
       "      <td>59.000000</td>\n",
       "      <td>0.000000</td>\n",
       "      <td>1.000000</td>\n",
       "      <td>0.000000</td>\n",
       "      <td>0.000000</td>\n",
       "      <td>0.000000</td>\n",
       "      <td>0.000000</td>\n",
       "      <td>1.000000</td>\n",
       "    </tr>\n",
       "    <tr>\n",
       "      <th>75%</th>\n",
       "      <td>9.273108e+13</td>\n",
       "      <td>5.729341e+06</td>\n",
       "      <td>68.000000</td>\n",
       "      <td>0.000000</td>\n",
       "      <td>1.000000</td>\n",
       "      <td>1.000000</td>\n",
       "      <td>0.000000</td>\n",
       "      <td>0.000000</td>\n",
       "      <td>1.000000</td>\n",
       "      <td>1.000000</td>\n",
       "    </tr>\n",
       "    <tr>\n",
       "      <th>max</th>\n",
       "      <td>9.999465e+14</td>\n",
       "      <td>5.790358e+06</td>\n",
       "      <td>115.000000</td>\n",
       "      <td>1.000000</td>\n",
       "      <td>1.000000</td>\n",
       "      <td>1.000000</td>\n",
       "      <td>1.000000</td>\n",
       "      <td>3.000000</td>\n",
       "      <td>1.000000</td>\n",
       "      <td>1.000000</td>\n",
       "    </tr>\n",
       "  </tbody>\n",
       "</table>\n",
       "</div>"
      ],
      "text/plain": [
       "          patientid  appointmentid           age   scholarship  hipertension  \\\n",
       "count  2.630300e+04   2.630300e+04  26303.000000  26303.000000  26303.000000   \n",
       "mean   1.470031e+14   5.678956e+06     58.149223      0.092955      0.828841   \n",
       "std    2.557095e+14   7.252072e+04     15.402416      0.290375      0.376655   \n",
       "min    4.374176e+04   5.122866e+06      0.000000      0.000000      0.000000   \n",
       "25%    4.258696e+12   5.645140e+06     49.000000      0.000000      1.000000   \n",
       "50%    3.265647e+13   5.683982e+06     59.000000      0.000000      1.000000   \n",
       "75%    9.273108e+13   5.729341e+06     68.000000      0.000000      1.000000   \n",
       "max    9.999465e+14   5.790358e+06    115.000000      1.000000      1.000000   \n",
       "\n",
       "           diabetes    alcoholism       handcap  sms_received      showedup  \n",
       "count  26303.000000  26303.000000  26303.000000  26303.000000  26303.000000  \n",
       "mean       0.301981      0.127742      0.084629      0.304566      0.821313  \n",
       "std        0.459126      0.333809      0.291414      0.460232      0.383097  \n",
       "min        0.000000      0.000000      0.000000      0.000000      0.000000  \n",
       "25%        0.000000      0.000000      0.000000      0.000000      1.000000  \n",
       "50%        0.000000      0.000000      0.000000      0.000000      1.000000  \n",
       "75%        1.000000      0.000000      0.000000      1.000000      1.000000  \n",
       "max        1.000000      1.000000      3.000000      1.000000      1.000000  "
      ]
     },
     "execution_count": 376,
     "metadata": {},
     "output_type": "execute_result"
    }
   ],
   "source": [
    "mal = df.copy()\n",
    "mask = mal[(mal['hipertension'] == 1) |\n",
    "                     (mal['diabetes'] == 1) |\n",
    "                     (mal['alcoholism'] == 1) |\n",
    "                     (mal['handcap'] == 1)].patientid.reset_index(drop=True).copy()\n",
    "\n",
    "mal[mal.patientid.isin(mask.values)].describe()"
   ]
  },
  {
   "cell_type": "markdown",
   "id": "9f772b48",
   "metadata": {},
   "source": [
    "It looks like we have 26303 people with some kind of problem, and their mean age is 58! Much older than the entire dataset mean which is 37.\n",
    "\n",
    "It makes sense since the older we get we will unfortunatelly get more diseases"
   ]
  },
  {
   "cell_type": "code",
   "execution_count": 393,
   "id": "408be8e4",
   "metadata": {},
   "outputs": [
    {
     "data": {
      "text/plain": [
       "<seaborn.axisgrid.FacetGrid at 0x1a3798b3460>"
      ]
     },
     "execution_count": 393,
     "metadata": {},
     "output_type": "execute_result"
    },
    {
     "data": {
      "image/png": "[encoded data removed]",
      "text/plain": [
       "<Figure size 442.825x360 with 1 Axes>"
      ]
     },
     "metadata": {},
     "output_type": "display_data"
    }
   ],
   "source": [
    "graf1 = df.groupby(['sms_received','showedup']).patientid.count()\n",
    "\n",
    "sns.catplot(data=pd.DataFrame((graf1/graf1.sum())).reset_index(), kind='bar', hue='showedup', y='patientid', x='sms_received')"
   ]
  },
  {
   "cell_type": "markdown",
   "id": "31029cbf",
   "metadata": {},
   "source": [
    "That's weird! But it looks like most people that went to their appointments didn't receive an SMS, althought most of those that received an SMS also went to their appointments."
   ]
  },
  {
   "cell_type": "code",
   "execution_count": 407,
   "id": "1351f369",
   "metadata": {},
   "outputs": [
    {
     "data": {
      "text/plain": [
       "<AxesSubplot:>"
      ]
     },
     "execution_count": 407,
     "metadata": {},
     "output_type": "execute_result"
    },
    {
     "data": {
      "image/png": "[encoded data removed]",
      "text/plain": [
       "<Figure size 432x288 with 2 Axes>"
      ]
     },
     "metadata": {},
     "output_type": "display_data"
    }
   ],
   "source": [
    "mask = df.copy()\n",
    "mask.drop(columns=['patientid','appointmentid'], inplace=True)\n",
    "sns.heatmap(mask.corr())"
   ]
  },
  {
   "cell_type": "markdown",
   "id": "c81b07bb",
   "metadata": {},
   "source": [
    "The correlation matrix confirms our findings above about hipertension, diabetes and age being positively correlated."
   ]
  },
  {
   "cell_type": "markdown",
   "id": "75b4009e",
   "metadata": {},
   "source": [
    "# Conclusion"
   ]
  },
  {
   "cell_type": "markdown",
   "id": "f66521fd",
   "metadata": {},
   "source": [
    "**01. What's the distribution of age and gender?**\n",
    "\n",
    "Most people has a mean age of 37 and ~60% of the database is Female. Among those that has any kind of health problem their mean age is 58.\n",
    "\n",
    "**02. How many people has been contemplated by the scholarship?**\n",
    "\n",
    "Only ~10% of the database has the scholarship\n",
    "\n",
    "**03. How many people has any kind of health problem or disability?**\n",
    "\n",
    "There are 26303 people with some kind of disability or health problem, most of them are female and their mean age is 58. The most prevalent problems is hipertension and diabetes.\n",
    "\n",
    "**04. How many people showed up at their appointments? Did someone make more than one appointment?**\n",
    "\n",
    "The share of people that showed up on their appointments is ~80% which is composed by 51% of Females and 28% of Males. Looking at the data we have only 37919 people that didn't make more than one appointment, and we have 72607 that made more than one appointment, a total of 110526."
   ]
  },
  {
   "cell_type": "markdown",
   "id": "2432eaef",
   "metadata": {},
   "source": [
    "# Limitations\n",
    "\n",
    "**01. Due to the lesson objective it was used mainly descriptive statistics, and therefore the is no final conclusions, hypothesis or inferences**\n",
    "\n",
    "**02. There's a lack of information regarding the appointment system like: what is the SMS policy, what kind of medical specialty session it is, backlog on patient's past behaviors related to diseases. Since this is an analysis regarding sensible medical data, we cannot proceed with a complex analysis without a lot more details regarding the patient and doctor, despite if it is merely for technical demonstration.**"
   ]
  }
 ],
 "metadata": {
  "kernelspec": {
   "display_name": "Python 3",
   "language": "python",
   "name": "python3"
  },
  "language_info": {
   "codemirror_mode": {
    "name": "ipython",
    "version": 3
   },
   "file_extension": ".py",
   "mimetype": "text/x-python",
   "name": "python",
   "nbconvert_exporter": "python",
   "pygments_lexer": "ipython3",
   "version": "3.8.8"
  }
 },
 "nbformat": 4,
 "nbformat_minor": 5
}
