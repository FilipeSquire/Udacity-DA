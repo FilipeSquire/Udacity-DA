{
 "cells": [
  {
   "cell_type": "markdown",
   "metadata": {},
   "source": [
    "# Data Visualization Project - Udacity - Prosper Loan Data Exploration"
   ]
  },
  {
   "cell_type": "code",
   "execution_count": 55,
   "metadata": {},
   "outputs": [],
   "source": [
    "import pandas as pd\n",
    "import numpy as np\n",
    "import matplotlib.pyplot as plt\n",
    "import seaborn as sns\n",
    "import requests \n",
    "\n",
    "%matplotlib inline"
   ]
  },
  {
   "cell_type": "markdown",
   "metadata": {},
   "source": [
    "## Dictionary\n",
    "\n",
    "I have downloaded manually from the following link that is hosted by Udacity. This is the dictionary for the Loan Data dataset."
   ]
  },
  {
   "cell_type": "code",
   "execution_count": 56,
   "metadata": {},
   "outputs": [
    {
     "data": {
      "text/html": [
       "<div>\n",
       "<style scoped>\n",
       "    .dataframe tbody tr th:only-of-type {\n",
       "        vertical-align: middle;\n",
       "    }\n",
       "\n",
       "    .dataframe tbody tr th {\n",
       "        vertical-align: top;\n",
       "    }\n",
       "\n",
       "    .dataframe thead th {\n",
       "        text-align: right;\n",
       "    }\n",
       "</style>\n",
       "<table border=\"1\" class=\"dataframe\">\n",
       "  <thead>\n",
       "    <tr style=\"text-align: right;\">\n",
       "      <th></th>\n",
       "      <th>Variable</th>\n",
       "      <th>Description</th>\n",
       "    </tr>\n",
       "  </thead>\n",
       "  <tbody>\n",
       "    <tr>\n",
       "      <th>0</th>\n",
       "      <td>ListingKey</td>\n",
       "      <td>Unique key for each listing, same value as the...</td>\n",
       "    </tr>\n",
       "    <tr>\n",
       "      <th>1</th>\n",
       "      <td>ListingNumber</td>\n",
       "      <td>The number that uniquely identifies the listin...</td>\n",
       "    </tr>\n",
       "    <tr>\n",
       "      <th>2</th>\n",
       "      <td>ListingCreationDate</td>\n",
       "      <td>The date the listing was created.</td>\n",
       "    </tr>\n",
       "    <tr>\n",
       "      <th>3</th>\n",
       "      <td>CreditGrade</td>\n",
       "      <td>The Credit rating that was assigned at the tim...</td>\n",
       "    </tr>\n",
       "    <tr>\n",
       "      <th>4</th>\n",
       "      <td>Term</td>\n",
       "      <td>The length of the loan expressed in months.</td>\n",
       "    </tr>\n",
       "    <tr>\n",
       "      <th>...</th>\n",
       "      <td>...</td>\n",
       "      <td>...</td>\n",
       "    </tr>\n",
       "    <tr>\n",
       "      <th>76</th>\n",
       "      <td>PercentFunded</td>\n",
       "      <td>Percent the listing was funded.</td>\n",
       "    </tr>\n",
       "    <tr>\n",
       "      <th>77</th>\n",
       "      <td>Recommendations</td>\n",
       "      <td>Number of recommendations the borrower had at ...</td>\n",
       "    </tr>\n",
       "    <tr>\n",
       "      <th>78</th>\n",
       "      <td>InvestmentFromFriendsCount</td>\n",
       "      <td>Number of friends that made an investment in t...</td>\n",
       "    </tr>\n",
       "    <tr>\n",
       "      <th>79</th>\n",
       "      <td>InvestmentFromFriendsAmount</td>\n",
       "      <td>Dollar amount of investments that were made by...</td>\n",
       "    </tr>\n",
       "    <tr>\n",
       "      <th>80</th>\n",
       "      <td>Investors</td>\n",
       "      <td>The number of investors that funded the loan.</td>\n",
       "    </tr>\n",
       "  </tbody>\n",
       "</table>\n",
       "<p>81 rows × 2 columns</p>\n",
       "</div>"
      ],
      "text/plain": [
       "                       Variable  \\\n",
       "0                    ListingKey   \n",
       "1                 ListingNumber   \n",
       "2           ListingCreationDate   \n",
       "3                   CreditGrade   \n",
       "4                          Term   \n",
       "..                          ...   \n",
       "76                PercentFunded   \n",
       "77              Recommendations   \n",
       "78   InvestmentFromFriendsCount   \n",
       "79  InvestmentFromFriendsAmount   \n",
       "80                    Investors   \n",
       "\n",
       "                                          Description  \n",
       "0   Unique key for each listing, same value as the...  \n",
       "1   The number that uniquely identifies the listin...  \n",
       "2                   The date the listing was created.  \n",
       "3   The Credit rating that was assigned at the tim...  \n",
       "4         The length of the loan expressed in months.  \n",
       "..                                                ...  \n",
       "76                    Percent the listing was funded.  \n",
       "77  Number of recommendations the borrower had at ...  \n",
       "78  Number of friends that made an investment in t...  \n",
       "79  Dollar amount of investments that were made by...  \n",
       "80      The number of investors that funded the loan.  \n",
       "\n",
       "[81 rows x 2 columns]"
      ]
     },
     "execution_count": 56,
     "metadata": {},
     "output_type": "execute_result"
    }
   ],
   "source": [
    "dictionary = pd.read_csv('prosperloan_dic.csv')\n",
    "dictionary"
   ]
  },
  {
   "cell_type": "markdown",
   "metadata": {},
   "source": [
    "# Wrangling"
   ]
  },
  {
   "cell_type": "code",
   "execution_count": 57,
   "metadata": {},
   "outputs": [
    {
     "data": {
      "text/html": [
       "<div>\n",
       "<style scoped>\n",
       "    .dataframe tbody tr th:only-of-type {\n",
       "        vertical-align: middle;\n",
       "    }\n",
       "\n",
       "    .dataframe tbody tr th {\n",
       "        vertical-align: top;\n",
       "    }\n",
       "\n",
       "    .dataframe thead th {\n",
       "        text-align: right;\n",
       "    }\n",
       "</style>\n",
       "<table border=\"1\" class=\"dataframe\">\n",
       "  <thead>\n",
       "    <tr style=\"text-align: right;\">\n",
       "      <th></th>\n",
       "      <th>ListingKey</th>\n",
       "      <th>ListingNumber</th>\n",
       "      <th>ListingCreationDate</th>\n",
       "      <th>CreditGrade</th>\n",
       "      <th>Term</th>\n",
       "      <th>LoanStatus</th>\n",
       "      <th>ClosedDate</th>\n",
       "      <th>BorrowerAPR</th>\n",
       "      <th>BorrowerRate</th>\n",
       "      <th>LenderYield</th>\n",
       "      <th>...</th>\n",
       "      <th>LP_ServiceFees</th>\n",
       "      <th>LP_CollectionFees</th>\n",
       "      <th>LP_GrossPrincipalLoss</th>\n",
       "      <th>LP_NetPrincipalLoss</th>\n",
       "      <th>LP_NonPrincipalRecoverypayments</th>\n",
       "      <th>PercentFunded</th>\n",
       "      <th>Recommendations</th>\n",
       "      <th>InvestmentFromFriendsCount</th>\n",
       "      <th>InvestmentFromFriendsAmount</th>\n",
       "      <th>Investors</th>\n",
       "    </tr>\n",
       "  </thead>\n",
       "  <tbody>\n",
       "    <tr>\n",
       "      <th>0</th>\n",
       "      <td>1021339766868145413AB3B</td>\n",
       "      <td>193129</td>\n",
       "      <td>2007-08-26 19:09:29.263000000</td>\n",
       "      <td>C</td>\n",
       "      <td>36</td>\n",
       "      <td>Completed</td>\n",
       "      <td>2009-08-14 00:00:00</td>\n",
       "      <td>0.16516</td>\n",
       "      <td>0.1580</td>\n",
       "      <td>0.1380</td>\n",
       "      <td>...</td>\n",
       "      <td>-133.18</td>\n",
       "      <td>0.0</td>\n",
       "      <td>0.0</td>\n",
       "      <td>0.0</td>\n",
       "      <td>0.0</td>\n",
       "      <td>1.0</td>\n",
       "      <td>0</td>\n",
       "      <td>0</td>\n",
       "      <td>0.0</td>\n",
       "      <td>258</td>\n",
       "    </tr>\n",
       "    <tr>\n",
       "      <th>1</th>\n",
       "      <td>10273602499503308B223C1</td>\n",
       "      <td>1209647</td>\n",
       "      <td>2014-02-27 08:28:07.900000000</td>\n",
       "      <td>NaN</td>\n",
       "      <td>36</td>\n",
       "      <td>Current</td>\n",
       "      <td>NaN</td>\n",
       "      <td>0.12016</td>\n",
       "      <td>0.0920</td>\n",
       "      <td>0.0820</td>\n",
       "      <td>...</td>\n",
       "      <td>0.00</td>\n",
       "      <td>0.0</td>\n",
       "      <td>0.0</td>\n",
       "      <td>0.0</td>\n",
       "      <td>0.0</td>\n",
       "      <td>1.0</td>\n",
       "      <td>0</td>\n",
       "      <td>0</td>\n",
       "      <td>0.0</td>\n",
       "      <td>1</td>\n",
       "    </tr>\n",
       "    <tr>\n",
       "      <th>2</th>\n",
       "      <td>0EE9337825851032864889A</td>\n",
       "      <td>81716</td>\n",
       "      <td>2007-01-05 15:00:47.090000000</td>\n",
       "      <td>HR</td>\n",
       "      <td>36</td>\n",
       "      <td>Completed</td>\n",
       "      <td>2009-12-17 00:00:00</td>\n",
       "      <td>0.28269</td>\n",
       "      <td>0.2750</td>\n",
       "      <td>0.2400</td>\n",
       "      <td>...</td>\n",
       "      <td>-24.20</td>\n",
       "      <td>0.0</td>\n",
       "      <td>0.0</td>\n",
       "      <td>0.0</td>\n",
       "      <td>0.0</td>\n",
       "      <td>1.0</td>\n",
       "      <td>0</td>\n",
       "      <td>0</td>\n",
       "      <td>0.0</td>\n",
       "      <td>41</td>\n",
       "    </tr>\n",
       "    <tr>\n",
       "      <th>3</th>\n",
       "      <td>0EF5356002482715299901A</td>\n",
       "      <td>658116</td>\n",
       "      <td>2012-10-22 11:02:35.010000000</td>\n",
       "      <td>NaN</td>\n",
       "      <td>36</td>\n",
       "      <td>Current</td>\n",
       "      <td>NaN</td>\n",
       "      <td>0.12528</td>\n",
       "      <td>0.0974</td>\n",
       "      <td>0.0874</td>\n",
       "      <td>...</td>\n",
       "      <td>-108.01</td>\n",
       "      <td>0.0</td>\n",
       "      <td>0.0</td>\n",
       "      <td>0.0</td>\n",
       "      <td>0.0</td>\n",
       "      <td>1.0</td>\n",
       "      <td>0</td>\n",
       "      <td>0</td>\n",
       "      <td>0.0</td>\n",
       "      <td>158</td>\n",
       "    </tr>\n",
       "    <tr>\n",
       "      <th>4</th>\n",
       "      <td>0F023589499656230C5E3E2</td>\n",
       "      <td>909464</td>\n",
       "      <td>2013-09-14 18:38:39.097000000</td>\n",
       "      <td>NaN</td>\n",
       "      <td>36</td>\n",
       "      <td>Current</td>\n",
       "      <td>NaN</td>\n",
       "      <td>0.24614</td>\n",
       "      <td>0.2085</td>\n",
       "      <td>0.1985</td>\n",
       "      <td>...</td>\n",
       "      <td>-60.27</td>\n",
       "      <td>0.0</td>\n",
       "      <td>0.0</td>\n",
       "      <td>0.0</td>\n",
       "      <td>0.0</td>\n",
       "      <td>1.0</td>\n",
       "      <td>0</td>\n",
       "      <td>0</td>\n",
       "      <td>0.0</td>\n",
       "      <td>20</td>\n",
       "    </tr>\n",
       "  </tbody>\n",
       "</table>\n",
       "<p>5 rows × 81 columns</p>\n",
       "</div>"
      ],
      "text/plain": [
       "                ListingKey  ListingNumber            ListingCreationDate  \\\n",
       "0  1021339766868145413AB3B         193129  2007-08-26 19:09:29.263000000   \n",
       "1  10273602499503308B223C1        1209647  2014-02-27 08:28:07.900000000   \n",
       "2  0EE9337825851032864889A          81716  2007-01-05 15:00:47.090000000   \n",
       "3  0EF5356002482715299901A         658116  2012-10-22 11:02:35.010000000   \n",
       "4  0F023589499656230C5E3E2         909464  2013-09-14 18:38:39.097000000   \n",
       "\n",
       "  CreditGrade  Term LoanStatus           ClosedDate  BorrowerAPR  \\\n",
       "0           C    36  Completed  2009-08-14 00:00:00      0.16516   \n",
       "1         NaN    36    Current                  NaN      0.12016   \n",
       "2          HR    36  Completed  2009-12-17 00:00:00      0.28269   \n",
       "3         NaN    36    Current                  NaN      0.12528   \n",
       "4         NaN    36    Current                  NaN      0.24614   \n",
       "\n",
       "   BorrowerRate  LenderYield  ...  LP_ServiceFees  LP_CollectionFees  \\\n",
       "0        0.1580       0.1380  ...         -133.18                0.0   \n",
       "1        0.0920       0.0820  ...            0.00                0.0   \n",
       "2        0.2750       0.2400  ...          -24.20                0.0   \n",
       "3        0.0974       0.0874  ...         -108.01                0.0   \n",
       "4        0.2085       0.1985  ...          -60.27                0.0   \n",
       "\n",
       "   LP_GrossPrincipalLoss  LP_NetPrincipalLoss LP_NonPrincipalRecoverypayments  \\\n",
       "0                    0.0                  0.0                             0.0   \n",
       "1                    0.0                  0.0                             0.0   \n",
       "2                    0.0                  0.0                             0.0   \n",
       "3                    0.0                  0.0                             0.0   \n",
       "4                    0.0                  0.0                             0.0   \n",
       "\n",
       "   PercentFunded  Recommendations InvestmentFromFriendsCount  \\\n",
       "0            1.0                0                          0   \n",
       "1            1.0                0                          0   \n",
       "2            1.0                0                          0   \n",
       "3            1.0                0                          0   \n",
       "4            1.0                0                          0   \n",
       "\n",
       "  InvestmentFromFriendsAmount Investors  \n",
       "0                         0.0       258  \n",
       "1                         0.0         1  \n",
       "2                         0.0        41  \n",
       "3                         0.0       158  \n",
       "4                         0.0        20  \n",
       "\n",
       "[5 rows x 81 columns]"
      ]
     },
     "execution_count": 57,
     "metadata": {},
     "output_type": "execute_result"
    }
   ],
   "source": [
    "impt = requests.get('https://s3.amazonaws.com/udacity-hosted-downloads/ud651/prosperLoanData.csv', allow_redirects=True)\n",
    "open('prosperloan_data.csv', 'wb').write(impt.content)\n",
    "df = pd.read_csv('prosperloan_data.csv')\n",
    "df.head()"
   ]
  },
  {
   "cell_type": "code",
   "execution_count": 58,
   "metadata": {},
   "outputs": [
    {
     "name": "stdout",
     "output_type": "stream",
     "text": [
      "<class 'pandas.core.frame.DataFrame'>\n",
      "RangeIndex: 113937 entries, 0 to 113936\n",
      "Data columns (total 81 columns):\n",
      " #   Column                               Non-Null Count   Dtype  \n",
      "---  ------                               --------------   -----  \n",
      " 0   ListingKey                           113937 non-null  object \n",
      " 1   ListingNumber                        113937 non-null  int64  \n",
      " 2   ListingCreationDate                  113937 non-null  object \n",
      " 3   CreditGrade                          28953 non-null   object \n",
      " 4   Term                                 113937 non-null  int64  \n",
      " 5   LoanStatus                           113937 non-null  object \n",
      " 6   ClosedDate                           55089 non-null   object \n",
      " 7   BorrowerAPR                          113912 non-null  float64\n",
      " 8   BorrowerRate                         113937 non-null  float64\n",
      " 9   LenderYield                          113937 non-null  float64\n",
      " 10  EstimatedEffectiveYield              84853 non-null   float64\n",
      " 11  EstimatedLoss                        84853 non-null   float64\n",
      " 12  EstimatedReturn                      84853 non-null   float64\n",
      " 13  ProsperRating (numeric)              84853 non-null   float64\n",
      " 14  ProsperRating (Alpha)                84853 non-null   object \n",
      " 15  ProsperScore                         84853 non-null   float64\n",
      " 16  ListingCategory (numeric)            113937 non-null  int64  \n",
      " 17  BorrowerState                        108422 non-null  object \n",
      " 18  Occupation                           110349 non-null  object \n",
      " 19  EmploymentStatus                     111682 non-null  object \n",
      " 20  EmploymentStatusDuration             106312 non-null  float64\n",
      " 21  IsBorrowerHomeowner                  113937 non-null  bool   \n",
      " 22  CurrentlyInGroup                     113937 non-null  bool   \n",
      " 23  GroupKey                             13341 non-null   object \n",
      " 24  DateCreditPulled                     113937 non-null  object \n",
      " 25  CreditScoreRangeLower                113346 non-null  float64\n",
      " 26  CreditScoreRangeUpper                113346 non-null  float64\n",
      " 27  FirstRecordedCreditLine              113240 non-null  object \n",
      " 28  CurrentCreditLines                   106333 non-null  float64\n",
      " 29  OpenCreditLines                      106333 non-null  float64\n",
      " 30  TotalCreditLinespast7years           113240 non-null  float64\n",
      " 31  OpenRevolvingAccounts                113937 non-null  int64  \n",
      " 32  OpenRevolvingMonthlyPayment          113937 non-null  float64\n",
      " 33  InquiriesLast6Months                 113240 non-null  float64\n",
      " 34  TotalInquiries                       112778 non-null  float64\n",
      " 35  CurrentDelinquencies                 113240 non-null  float64\n",
      " 36  AmountDelinquent                     106315 non-null  float64\n",
      " 37  DelinquenciesLast7Years              112947 non-null  float64\n",
      " 38  PublicRecordsLast10Years             113240 non-null  float64\n",
      " 39  PublicRecordsLast12Months            106333 non-null  float64\n",
      " 40  RevolvingCreditBalance               106333 non-null  float64\n",
      " 41  BankcardUtilization                  106333 non-null  float64\n",
      " 42  AvailableBankcardCredit              106393 non-null  float64\n",
      " 43  TotalTrades                          106393 non-null  float64\n",
      " 44  TradesNeverDelinquent (percentage)   106393 non-null  float64\n",
      " 45  TradesOpenedLast6Months              106393 non-null  float64\n",
      " 46  DebtToIncomeRatio                    105383 non-null  float64\n",
      " 47  IncomeRange                          113937 non-null  object \n",
      " 48  IncomeVerifiable                     113937 non-null  bool   \n",
      " 49  StatedMonthlyIncome                  113937 non-null  float64\n",
      " 50  LoanKey                              113937 non-null  object \n",
      " 51  TotalProsperLoans                    22085 non-null   float64\n",
      " 52  TotalProsperPaymentsBilled           22085 non-null   float64\n",
      " 53  OnTimeProsperPayments                22085 non-null   float64\n",
      " 54  ProsperPaymentsLessThanOneMonthLate  22085 non-null   float64\n",
      " 55  ProsperPaymentsOneMonthPlusLate      22085 non-null   float64\n",
      " 56  ProsperPrincipalBorrowed             22085 non-null   float64\n",
      " 57  ProsperPrincipalOutstanding          22085 non-null   float64\n",
      " 58  ScorexChangeAtTimeOfListing          18928 non-null   float64\n",
      " 59  LoanCurrentDaysDelinquent            113937 non-null  int64  \n",
      " 60  LoanFirstDefaultedCycleNumber        16952 non-null   float64\n",
      " 61  LoanMonthsSinceOrigination           113937 non-null  int64  \n",
      " 62  LoanNumber                           113937 non-null  int64  \n",
      " 63  LoanOriginalAmount                   113937 non-null  int64  \n",
      " 64  LoanOriginationDate                  113937 non-null  object \n",
      " 65  LoanOriginationQuarter               113937 non-null  object \n",
      " 66  MemberKey                            113937 non-null  object \n",
      " 67  MonthlyLoanPayment                   113937 non-null  float64\n",
      " 68  LP_CustomerPayments                  113937 non-null  float64\n",
      " 69  LP_CustomerPrincipalPayments         113937 non-null  float64\n",
      " 70  LP_InterestandFees                   113937 non-null  float64\n",
      " 71  LP_ServiceFees                       113937 non-null  float64\n",
      " 72  LP_CollectionFees                    113937 non-null  float64\n",
      " 73  LP_GrossPrincipalLoss                113937 non-null  float64\n",
      " 74  LP_NetPrincipalLoss                  113937 non-null  float64\n",
      " 75  LP_NonPrincipalRecoverypayments      113937 non-null  float64\n",
      " 76  PercentFunded                        113937 non-null  float64\n",
      " 77  Recommendations                      113937 non-null  int64  \n",
      " 78  InvestmentFromFriendsCount           113937 non-null  int64  \n",
      " 79  InvestmentFromFriendsAmount          113937 non-null  float64\n",
      " 80  Investors                            113937 non-null  int64  \n",
      "dtypes: bool(3), float64(50), int64(11), object(17)\n",
      "memory usage: 68.1+ MB\n"
     ]
    }
   ],
   "source": [
    "df.info()"
   ]
  },
  {
   "cell_type": "code",
   "execution_count": 59,
   "metadata": {},
   "outputs": [
    {
     "data": {
      "text/html": [
       "<div>\n",
       "<style scoped>\n",
       "    .dataframe tbody tr th:only-of-type {\n",
       "        vertical-align: middle;\n",
       "    }\n",
       "\n",
       "    .dataframe tbody tr th {\n",
       "        vertical-align: top;\n",
       "    }\n",
       "\n",
       "    .dataframe thead th {\n",
       "        text-align: right;\n",
       "    }\n",
       "</style>\n",
       "<table border=\"1\" class=\"dataframe\">\n",
       "  <thead>\n",
       "    <tr style=\"text-align: right;\">\n",
       "      <th></th>\n",
       "      <th>ListingNumber</th>\n",
       "      <th>Term</th>\n",
       "      <th>BorrowerAPR</th>\n",
       "      <th>BorrowerRate</th>\n",
       "      <th>LenderYield</th>\n",
       "      <th>EstimatedEffectiveYield</th>\n",
       "      <th>EstimatedLoss</th>\n",
       "      <th>EstimatedReturn</th>\n",
       "      <th>ProsperRating (numeric)</th>\n",
       "      <th>ProsperScore</th>\n",
       "      <th>...</th>\n",
       "      <th>LP_ServiceFees</th>\n",
       "      <th>LP_CollectionFees</th>\n",
       "      <th>LP_GrossPrincipalLoss</th>\n",
       "      <th>LP_NetPrincipalLoss</th>\n",
       "      <th>LP_NonPrincipalRecoverypayments</th>\n",
       "      <th>PercentFunded</th>\n",
       "      <th>Recommendations</th>\n",
       "      <th>InvestmentFromFriendsCount</th>\n",
       "      <th>InvestmentFromFriendsAmount</th>\n",
       "      <th>Investors</th>\n",
       "    </tr>\n",
       "  </thead>\n",
       "  <tbody>\n",
       "    <tr>\n",
       "      <th>count</th>\n",
       "      <td>1.139370e+05</td>\n",
       "      <td>113937.000000</td>\n",
       "      <td>113912.000000</td>\n",
       "      <td>113937.000000</td>\n",
       "      <td>113937.000000</td>\n",
       "      <td>84853.000000</td>\n",
       "      <td>84853.000000</td>\n",
       "      <td>84853.000000</td>\n",
       "      <td>84853.000000</td>\n",
       "      <td>84853.000000</td>\n",
       "      <td>...</td>\n",
       "      <td>113937.000000</td>\n",
       "      <td>113937.000000</td>\n",
       "      <td>113937.000000</td>\n",
       "      <td>113937.000000</td>\n",
       "      <td>113937.000000</td>\n",
       "      <td>113937.000000</td>\n",
       "      <td>113937.000000</td>\n",
       "      <td>113937.000000</td>\n",
       "      <td>113937.000000</td>\n",
       "      <td>113937.000000</td>\n",
       "    </tr>\n",
       "    <tr>\n",
       "      <th>mean</th>\n",
       "      <td>6.278857e+05</td>\n",
       "      <td>40.830248</td>\n",
       "      <td>0.218828</td>\n",
       "      <td>0.192764</td>\n",
       "      <td>0.182701</td>\n",
       "      <td>0.168661</td>\n",
       "      <td>0.080306</td>\n",
       "      <td>0.096068</td>\n",
       "      <td>4.072243</td>\n",
       "      <td>5.950067</td>\n",
       "      <td>...</td>\n",
       "      <td>-54.725641</td>\n",
       "      <td>-14.242698</td>\n",
       "      <td>700.446342</td>\n",
       "      <td>681.420499</td>\n",
       "      <td>25.142686</td>\n",
       "      <td>0.998584</td>\n",
       "      <td>0.048027</td>\n",
       "      <td>0.023460</td>\n",
       "      <td>16.550751</td>\n",
       "      <td>80.475228</td>\n",
       "    </tr>\n",
       "    <tr>\n",
       "      <th>std</th>\n",
       "      <td>3.280762e+05</td>\n",
       "      <td>10.436212</td>\n",
       "      <td>0.080364</td>\n",
       "      <td>0.074818</td>\n",
       "      <td>0.074516</td>\n",
       "      <td>0.068467</td>\n",
       "      <td>0.046764</td>\n",
       "      <td>0.030403</td>\n",
       "      <td>1.673227</td>\n",
       "      <td>2.376501</td>\n",
       "      <td>...</td>\n",
       "      <td>60.675425</td>\n",
       "      <td>109.232758</td>\n",
       "      <td>2388.513831</td>\n",
       "      <td>2357.167068</td>\n",
       "      <td>275.657937</td>\n",
       "      <td>0.017919</td>\n",
       "      <td>0.332353</td>\n",
       "      <td>0.232412</td>\n",
       "      <td>294.545422</td>\n",
       "      <td>103.239020</td>\n",
       "    </tr>\n",
       "    <tr>\n",
       "      <th>min</th>\n",
       "      <td>4.000000e+00</td>\n",
       "      <td>12.000000</td>\n",
       "      <td>0.006530</td>\n",
       "      <td>0.000000</td>\n",
       "      <td>-0.010000</td>\n",
       "      <td>-0.182700</td>\n",
       "      <td>0.004900</td>\n",
       "      <td>-0.182700</td>\n",
       "      <td>1.000000</td>\n",
       "      <td>1.000000</td>\n",
       "      <td>...</td>\n",
       "      <td>-664.870000</td>\n",
       "      <td>-9274.750000</td>\n",
       "      <td>-94.200000</td>\n",
       "      <td>-954.550000</td>\n",
       "      <td>0.000000</td>\n",
       "      <td>0.700000</td>\n",
       "      <td>0.000000</td>\n",
       "      <td>0.000000</td>\n",
       "      <td>0.000000</td>\n",
       "      <td>1.000000</td>\n",
       "    </tr>\n",
       "    <tr>\n",
       "      <th>25%</th>\n",
       "      <td>4.009190e+05</td>\n",
       "      <td>36.000000</td>\n",
       "      <td>0.156290</td>\n",
       "      <td>0.134000</td>\n",
       "      <td>0.124200</td>\n",
       "      <td>0.115670</td>\n",
       "      <td>0.042400</td>\n",
       "      <td>0.074080</td>\n",
       "      <td>3.000000</td>\n",
       "      <td>4.000000</td>\n",
       "      <td>...</td>\n",
       "      <td>-73.180000</td>\n",
       "      <td>0.000000</td>\n",
       "      <td>0.000000</td>\n",
       "      <td>0.000000</td>\n",
       "      <td>0.000000</td>\n",
       "      <td>1.000000</td>\n",
       "      <td>0.000000</td>\n",
       "      <td>0.000000</td>\n",
       "      <td>0.000000</td>\n",
       "      <td>2.000000</td>\n",
       "    </tr>\n",
       "    <tr>\n",
       "      <th>50%</th>\n",
       "      <td>6.005540e+05</td>\n",
       "      <td>36.000000</td>\n",
       "      <td>0.209760</td>\n",
       "      <td>0.184000</td>\n",
       "      <td>0.173000</td>\n",
       "      <td>0.161500</td>\n",
       "      <td>0.072400</td>\n",
       "      <td>0.091700</td>\n",
       "      <td>4.000000</td>\n",
       "      <td>6.000000</td>\n",
       "      <td>...</td>\n",
       "      <td>-34.440000</td>\n",
       "      <td>0.000000</td>\n",
       "      <td>0.000000</td>\n",
       "      <td>0.000000</td>\n",
       "      <td>0.000000</td>\n",
       "      <td>1.000000</td>\n",
       "      <td>0.000000</td>\n",
       "      <td>0.000000</td>\n",
       "      <td>0.000000</td>\n",
       "      <td>44.000000</td>\n",
       "    </tr>\n",
       "    <tr>\n",
       "      <th>75%</th>\n",
       "      <td>8.926340e+05</td>\n",
       "      <td>36.000000</td>\n",
       "      <td>0.283810</td>\n",
       "      <td>0.250000</td>\n",
       "      <td>0.240000</td>\n",
       "      <td>0.224300</td>\n",
       "      <td>0.112000</td>\n",
       "      <td>0.116600</td>\n",
       "      <td>5.000000</td>\n",
       "      <td>8.000000</td>\n",
       "      <td>...</td>\n",
       "      <td>-13.920000</td>\n",
       "      <td>0.000000</td>\n",
       "      <td>0.000000</td>\n",
       "      <td>0.000000</td>\n",
       "      <td>0.000000</td>\n",
       "      <td>1.000000</td>\n",
       "      <td>0.000000</td>\n",
       "      <td>0.000000</td>\n",
       "      <td>0.000000</td>\n",
       "      <td>115.000000</td>\n",
       "    </tr>\n",
       "    <tr>\n",
       "      <th>max</th>\n",
       "      <td>1.255725e+06</td>\n",
       "      <td>60.000000</td>\n",
       "      <td>0.512290</td>\n",
       "      <td>0.497500</td>\n",
       "      <td>0.492500</td>\n",
       "      <td>0.319900</td>\n",
       "      <td>0.366000</td>\n",
       "      <td>0.283700</td>\n",
       "      <td>7.000000</td>\n",
       "      <td>11.000000</td>\n",
       "      <td>...</td>\n",
       "      <td>32.060000</td>\n",
       "      <td>0.000000</td>\n",
       "      <td>25000.000000</td>\n",
       "      <td>25000.000000</td>\n",
       "      <td>21117.900000</td>\n",
       "      <td>1.012500</td>\n",
       "      <td>39.000000</td>\n",
       "      <td>33.000000</td>\n",
       "      <td>25000.000000</td>\n",
       "      <td>1189.000000</td>\n",
       "    </tr>\n",
       "  </tbody>\n",
       "</table>\n",
       "<p>8 rows × 61 columns</p>\n",
       "</div>"
      ],
      "text/plain": [
       "       ListingNumber           Term    BorrowerAPR   BorrowerRate  \\\n",
       "count   1.139370e+05  113937.000000  113912.000000  113937.000000   \n",
       "mean    6.278857e+05      40.830248       0.218828       0.192764   \n",
       "std     3.280762e+05      10.436212       0.080364       0.074818   \n",
       "min     4.000000e+00      12.000000       0.006530       0.000000   \n",
       "25%     4.009190e+05      36.000000       0.156290       0.134000   \n",
       "50%     6.005540e+05      36.000000       0.209760       0.184000   \n",
       "75%     8.926340e+05      36.000000       0.283810       0.250000   \n",
       "max     1.255725e+06      60.000000       0.512290       0.497500   \n",
       "\n",
       "         LenderYield  EstimatedEffectiveYield  EstimatedLoss  EstimatedReturn  \\\n",
       "count  113937.000000             84853.000000   84853.000000     84853.000000   \n",
       "mean        0.182701                 0.168661       0.080306         0.096068   \n",
       "std         0.074516                 0.068467       0.046764         0.030403   \n",
       "min        -0.010000                -0.182700       0.004900        -0.182700   \n",
       "25%         0.124200                 0.115670       0.042400         0.074080   \n",
       "50%         0.173000                 0.161500       0.072400         0.091700   \n",
       "75%         0.240000                 0.224300       0.112000         0.116600   \n",
       "max         0.492500                 0.319900       0.366000         0.283700   \n",
       "\n",
       "       ProsperRating (numeric)  ProsperScore  ...  LP_ServiceFees  \\\n",
       "count             84853.000000  84853.000000  ...   113937.000000   \n",
       "mean                  4.072243      5.950067  ...      -54.725641   \n",
       "std                   1.673227      2.376501  ...       60.675425   \n",
       "min                   1.000000      1.000000  ...     -664.870000   \n",
       "25%                   3.000000      4.000000  ...      -73.180000   \n",
       "50%                   4.000000      6.000000  ...      -34.440000   \n",
       "75%                   5.000000      8.000000  ...      -13.920000   \n",
       "max                   7.000000     11.000000  ...       32.060000   \n",
       "\n",
       "       LP_CollectionFees  LP_GrossPrincipalLoss  LP_NetPrincipalLoss  \\\n",
       "count      113937.000000          113937.000000        113937.000000   \n",
       "mean          -14.242698             700.446342           681.420499   \n",
       "std           109.232758            2388.513831          2357.167068   \n",
       "min         -9274.750000             -94.200000          -954.550000   \n",
       "25%             0.000000               0.000000             0.000000   \n",
       "50%             0.000000               0.000000             0.000000   \n",
       "75%             0.000000               0.000000             0.000000   \n",
       "max             0.000000           25000.000000         25000.000000   \n",
       "\n",
       "       LP_NonPrincipalRecoverypayments  PercentFunded  Recommendations  \\\n",
       "count                    113937.000000  113937.000000    113937.000000   \n",
       "mean                         25.142686       0.998584         0.048027   \n",
       "std                         275.657937       0.017919         0.332353   \n",
       "min                           0.000000       0.700000         0.000000   \n",
       "25%                           0.000000       1.000000         0.000000   \n",
       "50%                           0.000000       1.000000         0.000000   \n",
       "75%                           0.000000       1.000000         0.000000   \n",
       "max                       21117.900000       1.012500        39.000000   \n",
       "\n",
       "       InvestmentFromFriendsCount  InvestmentFromFriendsAmount      Investors  \n",
       "count               113937.000000                113937.000000  113937.000000  \n",
       "mean                     0.023460                    16.550751      80.475228  \n",
       "std                      0.232412                   294.545422     103.239020  \n",
       "min                      0.000000                     0.000000       1.000000  \n",
       "25%                      0.000000                     0.000000       2.000000  \n",
       "50%                      0.000000                     0.000000      44.000000  \n",
       "75%                      0.000000                     0.000000     115.000000  \n",
       "max                     33.000000                 25000.000000    1189.000000  \n",
       "\n",
       "[8 rows x 61 columns]"
      ]
     },
     "execution_count": 59,
     "metadata": {},
     "output_type": "execute_result"
    }
   ],
   "source": [
    "df.describe()"
   ]
  },
  {
   "cell_type": "code",
   "execution_count": 60,
   "metadata": {},
   "outputs": [
    {
     "name": "stdout",
     "output_type": "stream",
     "text": [
      "<class 'pandas.core.frame.DataFrame'>\n",
      "RangeIndex: 113937 entries, 0 to 113936\n",
      "Data columns (total 12 columns):\n",
      " #   Column                     Non-Null Count   Dtype  \n",
      "---  ------                     --------------   -----  \n",
      " 0   Term                       113937 non-null  int64  \n",
      " 1   LoanStatus                 113937 non-null  object \n",
      " 2   BorrowerRate               113937 non-null  float64\n",
      " 3   ProsperRating (Alpha)      84853 non-null   object \n",
      " 4   ListingCategory (numeric)  113937 non-null  int64  \n",
      " 5   EmploymentStatus           111682 non-null  object \n",
      " 6   DelinquenciesLast7Years    112947 non-null  float64\n",
      " 7   StatedMonthlyIncome        113937 non-null  float64\n",
      " 8   LoanOriginalAmount         113937 non-null  int64  \n",
      " 9   LoanOriginationDate        113937 non-null  object \n",
      " 10  Investors                  113937 non-null  int64  \n",
      " 11  Recommendations            113937 non-null  int64  \n",
      "dtypes: float64(3), int64(5), object(4)\n",
      "memory usage: 10.4+ MB\n"
     ]
    }
   ],
   "source": [
    "#Since we have a massive amount of columns, I'll be selecting a few ones to continue the analysis\n",
    "columns = ['Term','LoanStatus','BorrowerRate','ProsperRating (Alpha)','ListingCategory (numeric)','EmploymentStatus','DelinquenciesLast7Years','StatedMonthlyIncome','LoanOriginalAmount','LoanOriginationDate','Investors','Recommendations']\n",
    "df = df[columns]\n",
    "df.info()"
   ]
  },
  {
   "cell_type": "code",
   "execution_count": 61,
   "metadata": {},
   "outputs": [
    {
     "data": {
      "text/html": [
       "<div>\n",
       "<style scoped>\n",
       "    .dataframe tbody tr th:only-of-type {\n",
       "        vertical-align: middle;\n",
       "    }\n",
       "\n",
       "    .dataframe tbody tr th {\n",
       "        vertical-align: top;\n",
       "    }\n",
       "\n",
       "    .dataframe thead th {\n",
       "        text-align: right;\n",
       "    }\n",
       "</style>\n",
       "<table border=\"1\" class=\"dataframe\">\n",
       "  <thead>\n",
       "    <tr style=\"text-align: right;\">\n",
       "      <th></th>\n",
       "      <th>Term</th>\n",
       "      <th>LoanStatus</th>\n",
       "      <th>BorrowerRate</th>\n",
       "      <th>ProsperRating (Alpha)</th>\n",
       "      <th>ListingCategory (numeric)</th>\n",
       "      <th>EmploymentStatus</th>\n",
       "      <th>DelinquenciesLast7Years</th>\n",
       "      <th>StatedMonthlyIncome</th>\n",
       "      <th>LoanOriginalAmount</th>\n",
       "      <th>LoanOriginationDate</th>\n",
       "      <th>Investors</th>\n",
       "      <th>Recommendations</th>\n",
       "    </tr>\n",
       "  </thead>\n",
       "  <tbody>\n",
       "    <tr>\n",
       "      <th>0</th>\n",
       "      <td>36</td>\n",
       "      <td>Completed</td>\n",
       "      <td>0.1580</td>\n",
       "      <td>NaN</td>\n",
       "      <td>0</td>\n",
       "      <td>Self-employed</td>\n",
       "      <td>4.0</td>\n",
       "      <td>3083.333333</td>\n",
       "      <td>9425</td>\n",
       "      <td>2007-09-12 00:00:00</td>\n",
       "      <td>258</td>\n",
       "      <td>0</td>\n",
       "    </tr>\n",
       "    <tr>\n",
       "      <th>1</th>\n",
       "      <td>36</td>\n",
       "      <td>Current</td>\n",
       "      <td>0.0920</td>\n",
       "      <td>A</td>\n",
       "      <td>2</td>\n",
       "      <td>Employed</td>\n",
       "      <td>0.0</td>\n",
       "      <td>6125.000000</td>\n",
       "      <td>10000</td>\n",
       "      <td>2014-03-03 00:00:00</td>\n",
       "      <td>1</td>\n",
       "      <td>0</td>\n",
       "    </tr>\n",
       "    <tr>\n",
       "      <th>2</th>\n",
       "      <td>36</td>\n",
       "      <td>Completed</td>\n",
       "      <td>0.2750</td>\n",
       "      <td>NaN</td>\n",
       "      <td>0</td>\n",
       "      <td>Not available</td>\n",
       "      <td>0.0</td>\n",
       "      <td>2083.333333</td>\n",
       "      <td>3001</td>\n",
       "      <td>2007-01-17 00:00:00</td>\n",
       "      <td>41</td>\n",
       "      <td>0</td>\n",
       "    </tr>\n",
       "    <tr>\n",
       "      <th>3</th>\n",
       "      <td>36</td>\n",
       "      <td>Current</td>\n",
       "      <td>0.0974</td>\n",
       "      <td>A</td>\n",
       "      <td>16</td>\n",
       "      <td>Employed</td>\n",
       "      <td>14.0</td>\n",
       "      <td>2875.000000</td>\n",
       "      <td>10000</td>\n",
       "      <td>2012-11-01 00:00:00</td>\n",
       "      <td>158</td>\n",
       "      <td>0</td>\n",
       "    </tr>\n",
       "    <tr>\n",
       "      <th>4</th>\n",
       "      <td>36</td>\n",
       "      <td>Current</td>\n",
       "      <td>0.2085</td>\n",
       "      <td>D</td>\n",
       "      <td>2</td>\n",
       "      <td>Employed</td>\n",
       "      <td>0.0</td>\n",
       "      <td>9583.333333</td>\n",
       "      <td>15000</td>\n",
       "      <td>2013-09-20 00:00:00</td>\n",
       "      <td>20</td>\n",
       "      <td>0</td>\n",
       "    </tr>\n",
       "  </tbody>\n",
       "</table>\n",
       "</div>"
      ],
      "text/plain": [
       "   Term LoanStatus  BorrowerRate ProsperRating (Alpha)  \\\n",
       "0    36  Completed        0.1580                   NaN   \n",
       "1    36    Current        0.0920                     A   \n",
       "2    36  Completed        0.2750                   NaN   \n",
       "3    36    Current        0.0974                     A   \n",
       "4    36    Current        0.2085                     D   \n",
       "\n",
       "   ListingCategory (numeric) EmploymentStatus  DelinquenciesLast7Years  \\\n",
       "0                          0    Self-employed                      4.0   \n",
       "1                          2         Employed                      0.0   \n",
       "2                          0    Not available                      0.0   \n",
       "3                         16         Employed                     14.0   \n",
       "4                          2         Employed                      0.0   \n",
       "\n",
       "   StatedMonthlyIncome  LoanOriginalAmount  LoanOriginationDate  Investors  \\\n",
       "0          3083.333333                9425  2007-09-12 00:00:00        258   \n",
       "1          6125.000000               10000  2014-03-03 00:00:00          1   \n",
       "2          2083.333333                3001  2007-01-17 00:00:00         41   \n",
       "3          2875.000000               10000  2012-11-01 00:00:00        158   \n",
       "4          9583.333333               15000  2013-09-20 00:00:00         20   \n",
       "\n",
       "   Recommendations  \n",
       "0                0  \n",
       "1                0  \n",
       "2                0  \n",
       "3                0  \n",
       "4                0  "
      ]
     },
     "execution_count": 61,
     "metadata": {},
     "output_type": "execute_result"
    }
   ],
   "source": [
    "df.head()"
   ]
  },
  {
   "cell_type": "markdown",
   "metadata": {},
   "source": [
    "**Issues Found**\n",
    "1. Prosper Rating columns has too many null values\n",
    "2. LoanOriginationDate must be converted to type date\n",
    "3. Columns names not adequate for coding"
   ]
  },
  {
   "cell_type": "code",
   "execution_count": 62,
   "metadata": {},
   "outputs": [
    {
     "name": "stdout",
     "output_type": "stream",
     "text": [
      "<class 'pandas.core.frame.DataFrame'>\n",
      "RangeIndex: 84853 entries, 0 to 84852\n",
      "Data columns (total 13 columns):\n",
      " #   Column                     Non-Null Count  Dtype         \n",
      "---  ------                     --------------  -----         \n",
      " 0   index                      84853 non-null  int64         \n",
      " 1   Term                       84853 non-null  int64         \n",
      " 2   LoanStatus                 84853 non-null  object        \n",
      " 3   BorrowerRate               84853 non-null  float64       \n",
      " 4   ProsperRating (Alpha)      84853 non-null  object        \n",
      " 5   ListingCategory (numeric)  84853 non-null  int64         \n",
      " 6   EmploymentStatus           84853 non-null  object        \n",
      " 7   DelinquenciesLast7Years    84853 non-null  float64       \n",
      " 8   StatedMonthlyIncome        84853 non-null  float64       \n",
      " 9   LoanOriginalAmount         84853 non-null  int64         \n",
      " 10  LoanOriginationDate        84853 non-null  datetime64[ns]\n",
      " 11  Investors                  84853 non-null  int64         \n",
      " 12  Recommendations            84853 non-null  int64         \n",
      "dtypes: datetime64[ns](1), float64(3), int64(6), object(3)\n",
      "memory usage: 8.4+ MB\n"
     ]
    }
   ],
   "source": [
    "#To deal with the null values in ProsperRating column we deal with it in different kinds of approach. In order to keep it simple I'll be just dropping the missing rows\n",
    "\n",
    "df_c = df.copy()\n",
    "df_c = df_c[df_c['ProsperRating (Alpha)'].isna() == False].reset_index()\n",
    "\n",
    "#Changing column type\n",
    "df_c['LoanOriginationDate'] = pd.to_datetime(df_c['LoanOriginationDate'])\n",
    "\n",
    "df_c.info()"
   ]
  },
  {
   "cell_type": "markdown",
   "metadata": {},
   "source": [
    "Transformations"
   ]
  },
  {
   "cell_type": "code",
   "execution_count": 85,
   "metadata": {},
   "outputs": [
    {
     "data": {
      "text/plain": [
       "Active       56781\n",
       "Completed    19664\n",
       "Defaulted     5336\n",
       "Late          3072\n",
       "Name: LoanStatus_t, dtype: int64"
      ]
     },
     "execution_count": 85,
     "metadata": {},
     "output_type": "execute_result"
    }
   ],
   "source": [
    "#I'm just adjusting the form of data\n",
    "def loan_transform(row):\n",
    "    if row['LoanStatus'] == 'Chargedoff':\n",
    "        return 'Defaulted'\n",
    "    if row['LoanStatus'] == 'Current':\n",
    "        return 'Active'\n",
    "    if row['LoanStatus'] == 'Completed':\n",
    "        return 'Completed'\n",
    "    if row['LoanStatus'] == 'FinalPaymentInProgress':\n",
    "        return 'Active'\n",
    "    else:\n",
    "        return 'Late'\n",
    "    \n",
    "df_c['LoanStatus_t'] = df_c.apply(loan_transform, axis=1)\n",
    "df_c['LoanStatus_t'].value_counts()"
   ]
  },
  {
   "cell_type": "code",
   "execution_count": 89,
   "metadata": {},
   "outputs": [
    {
     "data": {
      "text/plain": [
       "Debt                53180\n",
       "Others              17337\n",
       "Home Improvement     6801\n",
       "Business             5298\n",
       "Auto                 2237\n",
       "Name: ListingCategory, dtype: int64"
      ]
     },
     "execution_count": 89,
     "metadata": {},
     "output_type": "execute_result"
    }
   ],
   "source": [
    "ax = {1: 'Debt', 2: 'Home Improvement', 3: 'Business', 6: 'Auto', 7: 'Others'}\n",
    "\n",
    "def reduce_categorie(row):\n",
    "    loan_transf = row['ListingCategory (numeric)']\n",
    "    if  loan_transf in ax:\n",
    "        return ax[loan_transf]\n",
    "    else:\n",
    "        return ax[7]\n",
    "    \n",
    "df_c['ListingCategory'] = df_c.apply(reduce_categorie, axis=1)\n",
    "df_c['ListingCategory'].value_counts()"
   ]
  },
  {
   "cell_type": "markdown",
   "metadata": {},
   "source": [
    "## Main features of this dataset\n",
    "\n",
    "> Figre out what features can be used for credit default prediction and the features with the biggest correlations with prosper credit rating.\n",
    "\n",
    "## What features will help support your investigation into your feature of interest?\n",
    "\n",
    "> Before doing the check I believe that ProsperRating, Listing Category and EmploymentStatus will have the biggest correlations with default's probability and credit rating."
   ]
  },
  {
   "cell_type": "markdown",
   "metadata": {},
   "source": [
    "# Univariate Exploration"
   ]
  },
  {
   "cell_type": "markdown",
   "metadata": {},
   "source": [
    "## Loan Status"
   ]
  },
  {
   "cell_type": "code",
   "execution_count": 64,
   "metadata": {},
   "outputs": [
    {
     "data": {
      "text/html": [
       "<div>\n",
       "<style scoped>\n",
       "    .dataframe tbody tr th:only-of-type {\n",
       "        vertical-align: middle;\n",
       "    }\n",
       "\n",
       "    .dataframe tbody tr th {\n",
       "        vertical-align: top;\n",
       "    }\n",
       "\n",
       "    .dataframe thead th {\n",
       "        text-align: right;\n",
       "    }\n",
       "</style>\n",
       "<table border=\"1\" class=\"dataframe\">\n",
       "  <thead>\n",
       "    <tr style=\"text-align: right;\">\n",
       "      <th></th>\n",
       "      <th>Term</th>\n",
       "    </tr>\n",
       "    <tr>\n",
       "      <th>LoanStatus</th>\n",
       "      <th></th>\n",
       "    </tr>\n",
       "  </thead>\n",
       "  <tbody>\n",
       "    <tr>\n",
       "      <th>Chargedoff</th>\n",
       "      <td>0.062885</td>\n",
       "    </tr>\n",
       "    <tr>\n",
       "      <th>Completed</th>\n",
       "      <td>0.231742</td>\n",
       "    </tr>\n",
       "    <tr>\n",
       "      <th>Current</th>\n",
       "      <td>0.666753</td>\n",
       "    </tr>\n",
       "    <tr>\n",
       "      <th>Defaulted</th>\n",
       "      <td>0.011844</td>\n",
       "    </tr>\n",
       "    <tr>\n",
       "      <th>FinalPaymentInProgress</th>\n",
       "      <td>0.002416</td>\n",
       "    </tr>\n",
       "    <tr>\n",
       "      <th>Past Due (1-15 days)</th>\n",
       "      <td>0.009499</td>\n",
       "    </tr>\n",
       "    <tr>\n",
       "      <th>Past Due (16-30 days)</th>\n",
       "      <td>0.003123</td>\n",
       "    </tr>\n",
       "    <tr>\n",
       "      <th>Past Due (31-60 days)</th>\n",
       "      <td>0.004278</td>\n",
       "    </tr>\n",
       "    <tr>\n",
       "      <th>Past Due (61-90 days)</th>\n",
       "      <td>0.003689</td>\n",
       "    </tr>\n",
       "    <tr>\n",
       "      <th>Past Due (91-120 days)</th>\n",
       "      <td>0.003583</td>\n",
       "    </tr>\n",
       "    <tr>\n",
       "      <th>Past Due (&gt;120 days)</th>\n",
       "      <td>0.000189</td>\n",
       "    </tr>\n",
       "  </tbody>\n",
       "</table>\n",
       "</div>"
      ],
      "text/plain": [
       "                            Term\n",
       "LoanStatus                      \n",
       "Chargedoff              0.062885\n",
       "Completed               0.231742\n",
       "Current                 0.666753\n",
       "Defaulted               0.011844\n",
       "FinalPaymentInProgress  0.002416\n",
       "Past Due (1-15 days)    0.009499\n",
       "Past Due (16-30 days)   0.003123\n",
       "Past Due (31-60 days)   0.004278\n",
       "Past Due (61-90 days)   0.003689\n",
       "Past Due (91-120 days)  0.003583\n",
       "Past Due (>120 days)    0.000189"
      ]
     },
     "execution_count": 64,
     "metadata": {},
     "output_type": "execute_result"
    }
   ],
   "source": [
    "df_c[['LoanStatus','Term']].groupby('LoanStatus').count()/df_c['Term'].count()"
   ]
  },
  {
   "cell_type": "code",
   "execution_count": 65,
   "metadata": {},
   "outputs": [
    {
     "data": {
      "text/plain": [
       "[]"
      ]
     },
     "execution_count": 65,
     "metadata": {},
     "output_type": "execute_result"
    },
    {
     "data": {
      "image/png": "[encoded data removed]",
      "text/plain": [
       "<Figure size 2016x720 with 1 Axes>"
      ]
     },
     "metadata": {
      "needs_background": "light"
     },
     "output_type": "display_data"
    }
   ],
   "source": [
    " graf1 = df_c[['LoanStatus','Term']].groupby('LoanStatus').count()/df_c['Term'].count()\n",
    " \n",
    " fig = plt.figure(figsize=(28,10))\n",
    "\n",
    " ax = sns.barplot(x= 'LoanStatus', y = 'Term', data=graf1.reset_index().sort_values('Term'))\n",
    " ax.bar_label(ax.containers[0])\n",
    " plt.title('Share of Loan Status')\n",
    " plt.plot()"
   ]
  },
  {
   "cell_type": "markdown",
   "metadata": {},
   "source": [
    "> * Most of the loans in this dataset is either Current, Completed or Chargeoff. \n",
    "> * Past due loans are split throughout several groups being over 120 days the category with less share\n",
    "> * The risk of a loan is it's default. It seems that the loan dynamic is healthy due to the share of completed loans"
   ]
  },
  {
   "cell_type": "markdown",
   "metadata": {},
   "source": [
    "## Monthly Income"
   ]
  },
  {
   "cell_type": "code",
   "execution_count": 67,
   "metadata": {},
   "outputs": [
    {
     "data": {
      "text/plain": [
       "[]"
      ]
     },
     "execution_count": 67,
     "metadata": {},
     "output_type": "execute_result"
    },
    {
     "data": {
      "image/png": "[encoded data removed]",
      "text/plain": [
       "<Figure size 720x720 with 1 Axes>"
      ]
     },
     "metadata": {
      "needs_background": "light"
     },
     "output_type": "display_data"
    }
   ],
   "source": [
    " #graf1 = df_c[['LoanStatus','Term']].groupby('LoanStatus').count()/df_c['Term'].count()\n",
    " \n",
    "Q1 = df_c['StatedMonthlyIncome'].quantile(0.25)\n",
    "Q3 = df_c['StatedMonthlyIncome'].quantile(0.75)\n",
    "IQR = Q3 - Q1    #IQR is interquartile range. \n",
    "\n",
    "filter = (df_c['StatedMonthlyIncome'] >= Q1 - 1.5 * IQR) & (df_c['StatedMonthlyIncome'] <= Q3 + 1.5 *IQR)\n",
    "\n",
    "fig = plt.figure(figsize=(10,10))\n",
    "\n",
    "ax = sns.boxplot(y='StatedMonthlyIncome', data=df_c.loc[filter])\n",
    "#ax.bar_label(ax.containers[0])\n",
    "plt.title('Boxplot of Stated Monthly Income')\n",
    "plt.plot()"
   ]
  },
  {
   "cell_type": "markdown",
   "metadata": {},
   "source": [
    "According to the boxplot it seems that our data is skewed to the right. A better visualization to see where exactly most of our data falls would a histogram."
   ]
  },
  {
   "cell_type": "code",
   "execution_count": 68,
   "metadata": {},
   "outputs": [
    {
     "data": {
      "text/plain": [
       "[]"
      ]
     },
     "execution_count": 68,
     "metadata": {},
     "output_type": "execute_result"
    },
    {
     "data": {
      "image/png": "[encoded data removed]",
      "text/plain": [
       "<Figure size 1296x720 with 1 Axes>"
      ]
     },
     "metadata": {
      "needs_background": "light"
     },
     "output_type": "display_data"
    }
   ],
   "source": [
    " #graf1 = df_c[['LoanStatus','Term']].groupby('LoanStatus').count()/df_c['Term'].count()\n",
    " \n",
    "fig = plt.figure(figsize=(18,10))\n",
    "ax = sns.histplot(x='StatedMonthlyIncome', data=df_c.loc[filter], bins=20)\n",
    "#ax.bar_label(ax.containers[0])\n",
    "plt.title('Stated Monthly Income Histogram')\n",
    "plt.plot()"
   ]
  },
  {
   "cell_type": "code",
   "execution_count": 69,
   "metadata": {},
   "outputs": [
    {
     "name": "stdout",
     "output_type": "stream",
     "text": [
      "Mode is [4166.666667]\n"
     ]
    }
   ],
   "source": [
    "print('Mode is {}'.format(df_c.loc[filter]['StatedMonthlyIncome'].mode().values))"
   ]
  },
  {
   "cell_type": "markdown",
   "metadata": {},
   "source": [
    "Taking a look at our new graph, the histogram, it's possible to have a better view of our data distribution. It seems that most data points falls between 2000 and 6000 Stated Monthly Income."
   ]
  },
  {
   "cell_type": "markdown",
   "metadata": {},
   "source": [
    "## Employment Status"
   ]
  },
  {
   "cell_type": "code",
   "execution_count": 70,
   "metadata": {},
   "outputs": [
    {
     "data": {
      "text/plain": [
       "[]"
      ]
     },
     "execution_count": 70,
     "metadata": {},
     "output_type": "execute_result"
    },
    {
     "data": {
      "image/png": "[encoded data removed]",
      "text/plain": [
       "<Figure size 1296x720 with 1 Axes>"
      ]
     },
     "metadata": {
      "needs_background": "light"
     },
     "output_type": "display_data"
    }
   ],
   "source": [
    "graf1 = df_c[['EmploymentStatus','Term']].groupby('EmploymentStatus').count()/df_c['EmploymentStatus'].count()\n",
    " \n",
    "fig = plt.figure(figsize=(18,10))\n",
    "ax = sns.barplot(x='EmploymentStatus', y='Term', data=graf1.reset_index().sort_values('Term'))\n",
    "ax.bar_label(ax.containers[0])\n",
    "plt.title('Employment Status Share')\n",
    "plt.plot()"
   ]
  },
  {
   "cell_type": "markdown",
   "metadata": {},
   "source": [
    "* The biggest group is Employed followed by full-time, self-employed and Other. \n",
    "* It seems that this column might be wrongly named. A very small part is considered Retired or not employed, and the rest of the categories are actually types of employments. Therefore despite for retired and not employed, all the others are Employed but with different kinds of employment."
   ]
  },
  {
   "cell_type": "markdown",
   "metadata": {},
   "source": [
    "## Discuss the distribution(s) of your variable(s) of interest. Were there any unusual points? Did you need to perform any transformations?"
   ]
  },
  {
   "cell_type": "markdown",
   "metadata": {},
   "source": [
    "The distribution of stated income is right skewed and it made me need to do a zoom in within the data in order for to be able to actually see the distribution. Almost all borrowers are employed (although the column categorized it wrongly in my opinion since it splits employed by types of employment but still keeps the status 'Employed'). Most of the loans are Current and Completed, and it seems healthy due to small number of past dues and defaults."
   ]
  },
  {
   "cell_type": "markdown",
   "metadata": {},
   "source": [
    "## Of the features you investigated, were there any unusual distributions? Did you perform any operations on the data to tidy, adjust, or change the form of the data? If so, why did you do this?"
   ]
  },
  {
   "cell_type": "markdown",
   "metadata": {},
   "source": [
    "I had to zoom in within the data in order to visualize the distribution of stated income. "
   ]
  },
  {
   "cell_type": "markdown",
   "metadata": {},
   "source": [
    "# Bivariate Exploration"
   ]
  },
  {
   "cell_type": "markdown",
   "metadata": {},
   "source": [
    "## Prosper Rating and Employment Status"
   ]
  },
  {
   "cell_type": "code",
   "execution_count": 72,
   "metadata": {},
   "outputs": [
    {
     "data": {
      "text/plain": [
       "[]"
      ]
     },
     "execution_count": 72,
     "metadata": {},
     "output_type": "execute_result"
    },
    {
     "data": {
      "image/png": "[encoded data removed]",
      "text/plain": [
       "<Figure size 1728x720 with 1 Axes>"
      ]
     },
     "metadata": {
      "needs_background": "light"
     },
     "output_type": "display_data"
    }
   ],
   "source": [
    "fig = plt.figure(figsize = (24, 10))\n",
    "ax = sns.countplot(x = 'ProsperRating (Alpha)', data = df_c, order=df_c['ProsperRating (Alpha)'].value_counts().reset_index().sort_values('index')['index'], hue = 'EmploymentStatus')\n",
    "ax.bar_label(ax.containers[0])\n",
    "ax.bar_label(ax.containers[1])\n",
    "ax.bar_label(ax.containers[2])\n",
    "ax.bar_label(ax.containers[3])\n",
    "ax.bar_label(ax.containers[4])\n",
    "ax.bar_label(ax.containers[5])\n",
    "ax.bar_label(ax.containers[6])\n",
    "plt.title('Prosper Rating and Employment Status')\n",
    "plt.plot()"
   ]
  },
  {
   "cell_type": "markdown",
   "metadata": {},
   "source": [
    "* Lower your rating, bigger the amount of individuals with employment status Not Employed, Self-employed, Retired and Part-Time."
   ]
  },
  {
   "cell_type": "markdown",
   "metadata": {},
   "source": [
    "## Loan Status and Loan Amount"
   ]
  },
  {
   "cell_type": "code",
   "execution_count": 86,
   "metadata": {},
   "outputs": [
    {
     "data": {
      "image/png": "[encoded data removed]",
      "text/plain": [
       "<Figure size 1296x720 with 1 Axes>"
      ]
     },
     "metadata": {
      "needs_background": "light"
     },
     "output_type": "display_data"
    }
   ],
   "source": [
    "fig = plt.figure(figsize=(18,10))\n",
    "sns.boxplot(data = df_c, x = 'LoanStatus_t', y = 'LoanOriginalAmount')"
   ]
  },
  {
   "cell_type": "markdown",
   "metadata": {},
   "source": [
    "* I can't determine a conclusion when it comes to credit health, but we may see that Defaulted category is the one with smaller amount of credit, although Completed debts are the second lowest category. "
   ]
  },
  {
   "cell_type": "markdown",
   "metadata": {},
   "source": [
    "## Loan Status and Prosper Rating"
   ]
  },
  {
   "cell_type": "code",
   "execution_count": 108,
   "metadata": {},
   "outputs": [
    {
     "data": {
      "text/plain": [
       "[]"
      ]
     },
     "execution_count": 108,
     "metadata": {},
     "output_type": "execute_result"
    },
    {
     "data": {
      "image/png": "[encoded data removed]",
      "text/plain": [
       "<Figure size 1296x720 with 1 Axes>"
      ]
     },
     "metadata": {
      "needs_background": "light"
     },
     "output_type": "display_data"
    }
   ],
   "source": [
    "fig = plt.figure(figsize=(18,10))\n",
    "sns.countplot(data = df_c, x = 'LoanStatus_t', hue = 'ListingCategory')\n",
    "plt.title('Loan Status per Listing Category')\n",
    "plt.plot()"
   ]
  },
  {
   "cell_type": "markdown",
   "metadata": {},
   "source": [
    "* Most prevalent Listing category is Debt - which can be used for multiple purposes, followed by Others which can be a series of other minor kinds of debts categories\n"
   ]
  },
  {
   "cell_type": "markdown",
   "metadata": {},
   "source": [
    "## Loan Status per Prosper Rating"
   ]
  },
  {
   "cell_type": "code",
   "execution_count": 112,
   "metadata": {},
   "outputs": [
    {
     "data": {
      "text/plain": [
       "[]"
      ]
     },
     "execution_count": 112,
     "metadata": {},
     "output_type": "execute_result"
    },
    {
     "data": {
      "image/png": "[encoded data removed]",
      "text/plain": [
       "<Figure size 1296x720 with 1 Axes>"
      ]
     },
     "metadata": {
      "needs_background": "light"
     },
     "output_type": "display_data"
    }
   ],
   "source": [
    "fig = plt.figure(figsize=(18,10))\n",
    "sns.countplot(data = df_c, x = 'LoanStatus_t', hue = 'ProsperRating (Alpha)')\n",
    "plt.title('Loan Status per ProsperRating (Alpha)')\n",
    "plt.plot()"
   ]
  },
  {
   "cell_type": "markdown",
   "metadata": {},
   "source": [
    "* Prosper Rating D is the most frequent group among Loan Status despite for Active. \n",
    "* A and AA being the best rating categories, seems to have the second lowest share in both Default and Late\n",
    "* It doesnt look like there's an exact correlation between prosper rating and loan status, since the lower rating categories has a good representation in Completed and Active."
   ]
  },
  {
   "cell_type": "markdown",
   "metadata": {},
   "source": [
    "## Talk about some of the relationships you observed in this part of the investigation. How did the feature(s) of interest vary with other features in the dataset?"
   ]
  },
  {
   "cell_type": "markdown",
   "metadata": {},
   "source": [
    "* Lower your rating, bigger the amount of individuals with employment status Not Employed, Self-employed, Retired and Part-Time. When we talk about the rating correlation with Loan Status, we'll notice that Rating D is the most frequent group among Loan Status despite for Active, A and AA being the best rating categories, seems to have the second lowest share in both Default and Late. However It doesnt look like there's an exact correlation between prosper rating and loan status, since the lower rating categories has a good representation in Completed and Active."
   ]
  },
  {
   "cell_type": "markdown",
   "metadata": {},
   "source": [
    "## Did you observe any interesting relationships between the other features (not the main feature(s) of interest)?"
   ]
  },
  {
   "cell_type": "markdown",
   "metadata": {},
   "source": [
    "* Prosper Rating D is the most frequent group in Loan Status even among Completed, where it is the one with the highest frequency. This group is composed majoritarily by employed people."
   ]
  },
  {
   "cell_type": "markdown",
   "metadata": {},
   "source": [
    "# Multivariate Exploration"
   ]
  },
  {
   "cell_type": "markdown",
   "metadata": {},
   "source": [
    "## Rating, Loan Status and Loan Amount\n",
    "--------"
   ]
  },
  {
   "cell_type": "code",
   "execution_count": 120,
   "metadata": {},
   "outputs": [
    {
     "data": {
      "text/plain": [
       "<AxesSubplot:xlabel='ProsperRating (Alpha)', ylabel='LoanOriginalAmount'>"
      ]
     },
     "execution_count": 120,
     "metadata": {},
     "output_type": "execute_result"
    },
    {
     "data": {
      "image/png": "[encoded data removed]",
      "text/plain": [
       "<Figure size 1728x720 with 1 Axes>"
      ]
     },
     "metadata": {
      "needs_background": "light"
     },
     "output_type": "display_data"
    }
   ],
   "source": [
    "plt.figure(figsize = (24, 10))\n",
    "sns.boxplot(data=df_c, x='ProsperRating (Alpha)', y='LoanOriginalAmount', hue='LoanStatus_t', order=df_c['ProsperRating (Alpha)'].value_counts().reset_index().sort_values('index')['index'])"
   ]
  },
  {
   "cell_type": "markdown",
   "metadata": {},
   "source": [
    "* Credits tends to be lower in Completed status along all prosper ratings\n",
    "* Despite for A and AA ratings, the amount of credits for Active and Late tends to be similar"
   ]
  },
  {
   "cell_type": "markdown",
   "metadata": {},
   "source": [
    "## Amount, Listing Category and Loan Status\n",
    "-------"
   ]
  },
  {
   "cell_type": "code",
   "execution_count": 142,
   "metadata": {},
   "outputs": [
    {
     "data": {
      "text/plain": [
       "<AxesSubplot:xlabel='ListingCategory', ylabel='LoanOriginalAmount'>"
      ]
     },
     "execution_count": 142,
     "metadata": {},
     "output_type": "execute_result"
    },
    {
     "data": {
      "image/png": "[encoded data removed]",
      "text/plain": [
       "<Figure size 1728x720 with 1 Axes>"
      ]
     },
     "metadata": {
      "needs_background": "light"
     },
     "output_type": "display_data"
    }
   ],
   "source": [
    "plt.figure(figsize = (24, 10))\n",
    "sns.boxplot(data=df_c, x='ListingCategory', y='LoanOriginalAmount', hue='LoanStatus_t', order=df_c['ListingCategory'].value_counts().reset_index().sort_values('index')['index'])"
   ]
  },
  {
   "cell_type": "markdown",
   "metadata": {},
   "source": [
    "* Credits of Active loan status seems to be the biggest along all listing categories\n",
    "* Except for Active, all other loan status median seems to be similar throughout the listing categories"
   ]
  },
  {
   "cell_type": "markdown",
   "metadata": {},
   "source": [
    "## Correlations"
   ]
  },
  {
   "cell_type": "code",
   "execution_count": 129,
   "metadata": {},
   "outputs": [
    {
     "data": {
      "text/html": [
       "<style type=\"text/css\">\n",
       "#T_9bf11_row0_col0, #T_9bf11_row1_col1, #T_9bf11_row2_col2, #T_9bf11_row3_col3, #T_9bf11_row4_col4, #T_9bf11_row5_col5, #T_9bf11_row6_col6, #T_9bf11_row7_col7, #T_9bf11_row8_col8 {\n",
       "  background-color: #08306b;\n",
       "  color: #f1f1f1;\n",
       "}\n",
       "#T_9bf11_row0_col1 {\n",
       "  background-color: #ecf4fb;\n",
       "  color: #000000;\n",
       "}\n",
       "#T_9bf11_row0_col2 {\n",
       "  background-color: #b8d5ea;\n",
       "  color: #000000;\n",
       "}\n",
       "#T_9bf11_row0_col3 {\n",
       "  background-color: #d6e5f4;\n",
       "  color: #000000;\n",
       "}\n",
       "#T_9bf11_row0_col4, #T_9bf11_row1_col5, #T_9bf11_row8_col4 {\n",
       "  background-color: #e4eff9;\n",
       "  color: #000000;\n",
       "}\n",
       "#T_9bf11_row0_col5, #T_9bf11_row5_col4, #T_9bf11_row8_col5 {\n",
       "  background-color: #e7f0fa;\n",
       "  color: #000000;\n",
       "}\n",
       "#T_9bf11_row0_col6, #T_9bf11_row1_col2 {\n",
       "  background-color: #b9d6ea;\n",
       "  color: #000000;\n",
       "}\n",
       "#T_9bf11_row0_col7 {\n",
       "  background-color: #d0e2f2;\n",
       "  color: #000000;\n",
       "}\n",
       "#T_9bf11_row0_col8, #T_9bf11_row4_col1 {\n",
       "  background-color: #f0f6fd;\n",
       "  color: #000000;\n",
       "}\n",
       "#T_9bf11_row1_col0, #T_9bf11_row1_col8, #T_9bf11_row2_col5, #T_9bf11_row2_col6, #T_9bf11_row2_col7, #T_9bf11_row3_col1, #T_9bf11_row4_col0, #T_9bf11_row6_col0, #T_9bf11_row6_col2, #T_9bf11_row6_col3, #T_9bf11_row6_col4, #T_9bf11_row6_col8 {\n",
       "  background-color: #f7fbff;\n",
       "  color: #000000;\n",
       "}\n",
       "#T_9bf11_row1_col3 {\n",
       "  background-color: #e0ecf8;\n",
       "  color: #000000;\n",
       "}\n",
       "#T_9bf11_row1_col4 {\n",
       "  background-color: #e8f1fa;\n",
       "  color: #000000;\n",
       "}\n",
       "#T_9bf11_row1_col6 {\n",
       "  background-color: #60a7d2;\n",
       "  color: #f1f1f1;\n",
       "}\n",
       "#T_9bf11_row1_col7 {\n",
       "  background-color: #cfe1f2;\n",
       "  color: #000000;\n",
       "}\n",
       "#T_9bf11_row2_col0, #T_9bf11_row8_col0 {\n",
       "  background-color: #f5fafe;\n",
       "  color: #000000;\n",
       "}\n",
       "#T_9bf11_row2_col1 {\n",
       "  background-color: #ebf3fb;\n",
       "  color: #000000;\n",
       "}\n",
       "#T_9bf11_row2_col3 {\n",
       "  background-color: #c4daee;\n",
       "  color: #000000;\n",
       "}\n",
       "#T_9bf11_row2_col4, #T_9bf11_row5_col2 {\n",
       "  background-color: #cbdef1;\n",
       "  color: #000000;\n",
       "}\n",
       "#T_9bf11_row2_col8 {\n",
       "  background-color: #f3f8fe;\n",
       "  color: #000000;\n",
       "}\n",
       "#T_9bf11_row3_col0, #T_9bf11_row5_col0, #T_9bf11_row7_col0 {\n",
       "  background-color: #f6faff;\n",
       "  color: #000000;\n",
       "}\n",
       "#T_9bf11_row3_col2 {\n",
       "  background-color: #a1cbe2;\n",
       "  color: #000000;\n",
       "}\n",
       "#T_9bf11_row3_col4, #T_9bf11_row3_col6, #T_9bf11_row7_col5 {\n",
       "  background-color: #d9e8f5;\n",
       "  color: #000000;\n",
       "}\n",
       "#T_9bf11_row3_col5, #T_9bf11_row4_col5, #T_9bf11_row7_col1 {\n",
       "  background-color: #e9f2fa;\n",
       "  color: #000000;\n",
       "}\n",
       "#T_9bf11_row3_col7 {\n",
       "  background-color: #d8e7f5;\n",
       "  color: #000000;\n",
       "}\n",
       "#T_9bf11_row3_col8, #T_9bf11_row4_col8, #T_9bf11_row8_col1 {\n",
       "  background-color: #f2f7fd;\n",
       "  color: #000000;\n",
       "}\n",
       "#T_9bf11_row4_col2 {\n",
       "  background-color: #97c6df;\n",
       "  color: #000000;\n",
       "}\n",
       "#T_9bf11_row4_col3, #T_9bf11_row4_col6 {\n",
       "  background-color: #cddff1;\n",
       "  color: #000000;\n",
       "}\n",
       "#T_9bf11_row4_col7, #T_9bf11_row7_col2 {\n",
       "  background-color: #dfebf7;\n",
       "  color: #000000;\n",
       "}\n",
       "#T_9bf11_row5_col1 {\n",
       "  background-color: #eaf2fb;\n",
       "  color: #000000;\n",
       "}\n",
       "#T_9bf11_row5_col3 {\n",
       "  background-color: #d9e7f5;\n",
       "  color: #000000;\n",
       "}\n",
       "#T_9bf11_row5_col6 {\n",
       "  background-color: #8abfdd;\n",
       "  color: #000000;\n",
       "}\n",
       "#T_9bf11_row5_col7, #T_9bf11_row6_col5 {\n",
       "  background-color: #c6dbef;\n",
       "  color: #000000;\n",
       "}\n",
       "#T_9bf11_row5_col8 {\n",
       "  background-color: #f2f8fd;\n",
       "  color: #000000;\n",
       "}\n",
       "#T_9bf11_row6_col1 {\n",
       "  background-color: #9dcae1;\n",
       "  color: #000000;\n",
       "}\n",
       "#T_9bf11_row6_col7 {\n",
       "  background-color: #7fb9da;\n",
       "  color: #000000;\n",
       "}\n",
       "#T_9bf11_row7_col3 {\n",
       "  background-color: #ddeaf7;\n",
       "  color: #000000;\n",
       "}\n",
       "#T_9bf11_row7_col4 {\n",
       "  background-color: #f4f9fe;\n",
       "  color: #000000;\n",
       "}\n",
       "#T_9bf11_row7_col6 {\n",
       "  background-color: #65aad4;\n",
       "  color: #f1f1f1;\n",
       "}\n",
       "#T_9bf11_row7_col8 {\n",
       "  background-color: #eaf3fb;\n",
       "  color: #000000;\n",
       "}\n",
       "#T_9bf11_row8_col2 {\n",
       "  background-color: #bad6eb;\n",
       "  color: #000000;\n",
       "}\n",
       "#T_9bf11_row8_col3 {\n",
       "  background-color: #d6e6f4;\n",
       "  color: #000000;\n",
       "}\n",
       "#T_9bf11_row8_col6 {\n",
       "  background-color: #bfd8ed;\n",
       "  color: #000000;\n",
       "}\n",
       "#T_9bf11_row8_col7 {\n",
       "  background-color: #ccdff1;\n",
       "  color: #000000;\n",
       "}\n",
       "</style>\n",
       "<table id=\"T_9bf11\">\n",
       "  <thead>\n",
       "    <tr>\n",
       "      <th class=\"blank level0\" >&nbsp;</th>\n",
       "      <th id=\"T_9bf11_level0_col0\" class=\"col_heading level0 col0\" >index</th>\n",
       "      <th id=\"T_9bf11_level0_col1\" class=\"col_heading level0 col1\" >Term</th>\n",
       "      <th id=\"T_9bf11_level0_col2\" class=\"col_heading level0 col2\" >BorrowerRate</th>\n",
       "      <th id=\"T_9bf11_level0_col3\" class=\"col_heading level0 col3\" >ListingCategory (numeric)</th>\n",
       "      <th id=\"T_9bf11_level0_col4\" class=\"col_heading level0 col4\" >DelinquenciesLast7Years</th>\n",
       "      <th id=\"T_9bf11_level0_col5\" class=\"col_heading level0 col5\" >StatedMonthlyIncome</th>\n",
       "      <th id=\"T_9bf11_level0_col6\" class=\"col_heading level0 col6\" >LoanOriginalAmount</th>\n",
       "      <th id=\"T_9bf11_level0_col7\" class=\"col_heading level0 col7\" >Investors</th>\n",
       "      <th id=\"T_9bf11_level0_col8\" class=\"col_heading level0 col8\" >Recommendations</th>\n",
       "    </tr>\n",
       "  </thead>\n",
       "  <tbody>\n",
       "    <tr>\n",
       "      <th id=\"T_9bf11_level0_row0\" class=\"row_heading level0 row0\" >index</th>\n",
       "      <td id=\"T_9bf11_row0_col0\" class=\"data row0 col0\" >1.000000</td>\n",
       "      <td id=\"T_9bf11_row0_col1\" class=\"data row0 col1\" >-0.004632</td>\n",
       "      <td id=\"T_9bf11_row0_col2\" class=\"data row0 col2\" >0.004203</td>\n",
       "      <td id=\"T_9bf11_row0_col3\" class=\"data row0 col3\" >0.002246</td>\n",
       "      <td id=\"T_9bf11_row0_col4\" class=\"data row0 col4\" >-0.002712</td>\n",
       "      <td id=\"T_9bf11_row0_col5\" class=\"data row0 col5\" >0.000109</td>\n",
       "      <td id=\"T_9bf11_row0_col6\" class=\"data row0 col6\" >-0.002719</td>\n",
       "      <td id=\"T_9bf11_row0_col7\" class=\"data row0 col7\" >0.001286</td>\n",
       "      <td id=\"T_9bf11_row0_col8\" class=\"data row0 col8\" >0.007050</td>\n",
       "    </tr>\n",
       "    <tr>\n",
       "      <th id=\"T_9bf11_level0_row1\" class=\"row_heading level0 row1\" >Term</th>\n",
       "      <td id=\"T_9bf11_row1_col0\" class=\"data row1 col0\" >-0.004632</td>\n",
       "      <td id=\"T_9bf11_row1_col1\" class=\"data row1 col1\" >1.000000</td>\n",
       "      <td id=\"T_9bf11_row1_col2\" class=\"data row1 col2\" >-0.000118</td>\n",
       "      <td id=\"T_9bf11_row1_col3\" class=\"data row1 col3\" >-0.063268</td>\n",
       "      <td id=\"T_9bf11_row1_col4\" class=\"data row1 col4\" >-0.024476</td>\n",
       "      <td id=\"T_9bf11_row1_col5\" class=\"data row1 col5\" >0.009257</td>\n",
       "      <td id=\"T_9bf11_row1_col6\" class=\"data row1 col6\" >0.339117</td>\n",
       "      <td id=\"T_9bf11_row1_col7\" class=\"data row1 col7\" >0.012550</td>\n",
       "      <td id=\"T_9bf11_row1_col8\" class=\"data row1 col8\" >-0.030338</td>\n",
       "    </tr>\n",
       "    <tr>\n",
       "      <th id=\"T_9bf11_level0_row2\" class=\"row_heading level0 row2\" >BorrowerRate</th>\n",
       "      <td id=\"T_9bf11_row2_col0\" class=\"data row2 col0\" >0.004203</td>\n",
       "      <td id=\"T_9bf11_row2_col1\" class=\"data row2 col1\" >-0.000118</td>\n",
       "      <td id=\"T_9bf11_row2_col2\" class=\"data row2 col2\" >1.000000</td>\n",
       "      <td id=\"T_9bf11_row2_col3\" class=\"data row2 col3\" >0.103641</td>\n",
       "      <td id=\"T_9bf11_row2_col4\" class=\"data row2 col4\" >0.142086</td>\n",
       "      <td id=\"T_9bf11_row2_col5\" class=\"data row2 col5\" >-0.093481</td>\n",
       "      <td id=\"T_9bf11_row2_col6\" class=\"data row2 col6\" >-0.413466</td>\n",
       "      <td id=\"T_9bf11_row2_col7\" class=\"data row2 col7\" >-0.242281</td>\n",
       "      <td id=\"T_9bf11_row2_col8\" class=\"data row2 col8\" >-0.009070</td>\n",
       "    </tr>\n",
       "    <tr>\n",
       "      <th id=\"T_9bf11_level0_row3\" class=\"row_heading level0 row3\" >ListingCategory (numeric)</th>\n",
       "      <td id=\"T_9bf11_row3_col0\" class=\"data row3 col0\" >0.002246</td>\n",
       "      <td id=\"T_9bf11_row3_col1\" class=\"data row3 col1\" >-0.063268</td>\n",
       "      <td id=\"T_9bf11_row3_col2\" class=\"data row3 col2\" >0.103641</td>\n",
       "      <td id=\"T_9bf11_row3_col3\" class=\"data row3 col3\" >1.000000</td>\n",
       "      <td id=\"T_9bf11_row3_col4\" class=\"data row3 col4\" >0.059919</td>\n",
       "      <td id=\"T_9bf11_row3_col5\" class=\"data row3 col5\" >-0.015671</td>\n",
       "      <td id=\"T_9bf11_row3_col6\" class=\"data row3 col6\" >-0.202322</td>\n",
       "      <td id=\"T_9bf11_row3_col7\" class=\"data row3 col7\" >-0.045053</td>\n",
       "      <td id=\"T_9bf11_row3_col8\" class=\"data row3 col8\" >-0.000414</td>\n",
       "    </tr>\n",
       "    <tr>\n",
       "      <th id=\"T_9bf11_level0_row4\" class=\"row_heading level0 row4\" >DelinquenciesLast7Years</th>\n",
       "      <td id=\"T_9bf11_row4_col0\" class=\"data row4 col0\" >-0.002712</td>\n",
       "      <td id=\"T_9bf11_row4_col1\" class=\"data row4 col1\" >-0.024476</td>\n",
       "      <td id=\"T_9bf11_row4_col2\" class=\"data row4 col2\" >0.142086</td>\n",
       "      <td id=\"T_9bf11_row4_col3\" class=\"data row4 col3\" >0.059919</td>\n",
       "      <td id=\"T_9bf11_row4_col4\" class=\"data row4 col4\" >1.000000</td>\n",
       "      <td id=\"T_9bf11_row4_col5\" class=\"data row4 col5\" >-0.014966</td>\n",
       "      <td id=\"T_9bf11_row4_col6\" class=\"data row4 col6\" >-0.106634</td>\n",
       "      <td id=\"T_9bf11_row4_col7\" class=\"data row4 col7\" >-0.086997</td>\n",
       "      <td id=\"T_9bf11_row4_col8\" class=\"data row4 col8\" >0.000452</td>\n",
       "    </tr>\n",
       "    <tr>\n",
       "      <th id=\"T_9bf11_level0_row5\" class=\"row_heading level0 row5\" >StatedMonthlyIncome</th>\n",
       "      <td id=\"T_9bf11_row5_col0\" class=\"data row5 col0\" >0.000109</td>\n",
       "      <td id=\"T_9bf11_row5_col1\" class=\"data row5 col1\" >0.009257</td>\n",
       "      <td id=\"T_9bf11_row5_col2\" class=\"data row5 col2\" >-0.093481</td>\n",
       "      <td id=\"T_9bf11_row5_col3\" class=\"data row5 col3\" >-0.015671</td>\n",
       "      <td id=\"T_9bf11_row5_col4\" class=\"data row5 col4\" >-0.014966</td>\n",
       "      <td id=\"T_9bf11_row5_col5\" class=\"data row5 col5\" >1.000000</td>\n",
       "      <td id=\"T_9bf11_row5_col6\" class=\"data row5 col6\" >0.182870</td>\n",
       "      <td id=\"T_9bf11_row5_col7\" class=\"data row5 col7\" >0.070351</td>\n",
       "      <td id=\"T_9bf11_row5_col8\" class=\"data row5 col8\" >-0.002858</td>\n",
       "    </tr>\n",
       "    <tr>\n",
       "      <th id=\"T_9bf11_level0_row6\" class=\"row_heading level0 row6\" >LoanOriginalAmount</th>\n",
       "      <td id=\"T_9bf11_row6_col0\" class=\"data row6 col0\" >-0.002719</td>\n",
       "      <td id=\"T_9bf11_row6_col1\" class=\"data row6 col1\" >0.339117</td>\n",
       "      <td id=\"T_9bf11_row6_col2\" class=\"data row6 col2\" >-0.413466</td>\n",
       "      <td id=\"T_9bf11_row6_col3\" class=\"data row6 col3\" >-0.202322</td>\n",
       "      <td id=\"T_9bf11_row6_col4\" class=\"data row6 col4\" >-0.106634</td>\n",
       "      <td id=\"T_9bf11_row6_col5\" class=\"data row6 col5\" >0.182870</td>\n",
       "      <td id=\"T_9bf11_row6_col6\" class=\"data row6 col6\" >1.000000</td>\n",
       "      <td id=\"T_9bf11_row6_col7\" class=\"data row6 col7\" >0.319235</td>\n",
       "      <td id=\"T_9bf11_row6_col8\" class=\"data row6 col8\" >-0.027913</td>\n",
       "    </tr>\n",
       "    <tr>\n",
       "      <th id=\"T_9bf11_level0_row7\" class=\"row_heading level0 row7\" >Investors</th>\n",
       "      <td id=\"T_9bf11_row7_col0\" class=\"data row7 col0\" >0.001286</td>\n",
       "      <td id=\"T_9bf11_row7_col1\" class=\"data row7 col1\" >0.012550</td>\n",
       "      <td id=\"T_9bf11_row7_col2\" class=\"data row7 col2\" >-0.242281</td>\n",
       "      <td id=\"T_9bf11_row7_col3\" class=\"data row7 col3\" >-0.045053</td>\n",
       "      <td id=\"T_9bf11_row7_col4\" class=\"data row7 col4\" >-0.086997</td>\n",
       "      <td id=\"T_9bf11_row7_col5\" class=\"data row7 col5\" >0.070351</td>\n",
       "      <td id=\"T_9bf11_row7_col6\" class=\"data row7 col6\" >0.319235</td>\n",
       "      <td id=\"T_9bf11_row7_col7\" class=\"data row7 col7\" >1.000000</td>\n",
       "      <td id=\"T_9bf11_row7_col8\" class=\"data row7 col8\" >0.034201</td>\n",
       "    </tr>\n",
       "    <tr>\n",
       "      <th id=\"T_9bf11_level0_row8\" class=\"row_heading level0 row8\" >Recommendations</th>\n",
       "      <td id=\"T_9bf11_row8_col0\" class=\"data row8 col0\" >0.007050</td>\n",
       "      <td id=\"T_9bf11_row8_col1\" class=\"data row8 col1\" >-0.030338</td>\n",
       "      <td id=\"T_9bf11_row8_col2\" class=\"data row8 col2\" >-0.009070</td>\n",
       "      <td id=\"T_9bf11_row8_col3\" class=\"data row8 col3\" >-0.000414</td>\n",
       "      <td id=\"T_9bf11_row8_col4\" class=\"data row8 col4\" >0.000452</td>\n",
       "      <td id=\"T_9bf11_row8_col5\" class=\"data row8 col5\" >-0.002858</td>\n",
       "      <td id=\"T_9bf11_row8_col6\" class=\"data row8 col6\" >-0.027913</td>\n",
       "      <td id=\"T_9bf11_row8_col7\" class=\"data row8 col7\" >0.034201</td>\n",
       "      <td id=\"T_9bf11_row8_col8\" class=\"data row8 col8\" >1.000000</td>\n",
       "    </tr>\n",
       "  </tbody>\n",
       "</table>\n"
      ],
      "text/plain": [
       "<pandas.io.formats.style.Styler at 0x2145bb37790>"
      ]
     },
     "execution_count": 129,
     "metadata": {},
     "output_type": "execute_result"
    }
   ],
   "source": [
    "df_c[['ProsperRating (Alpha)','LoanStatus_t','ListingCategory']].corr().style.background_gradient(cmap='Blues')"
   ]
  },
  {
   "cell_type": "markdown",
   "metadata": {},
   "source": [
    "* Looking for this correlation table, there is not variable match where we have at least a slightly strong correlation (>50 or <-50)"
   ]
  },
  {
   "cell_type": "code",
   "execution_count": 141,
   "metadata": {},
   "outputs": [
    {
     "data": {
      "text/html": [
       "<style type=\"text/css\">\n",
       "#T_35986_row0_col0, #T_35986_row1_col1, #T_35986_row2_col2, #T_35986_row3_col3 {\n",
       "  background-color: #08306b;\n",
       "  color: #f1f1f1;\n",
       "}\n",
       "#T_35986_row0_col1 {\n",
       "  background-color: #9cc9e1;\n",
       "  color: #000000;\n",
       "}\n",
       "#T_35986_row0_col2 {\n",
       "  background-color: #c7dbef;\n",
       "  color: #000000;\n",
       "}\n",
       "#T_35986_row0_col3, #T_35986_row3_col0, #T_35986_row3_col1, #T_35986_row3_col2 {\n",
       "  background-color: #f7fbff;\n",
       "  color: #000000;\n",
       "}\n",
       "#T_35986_row1_col0 {\n",
       "  background-color: #7ab6d9;\n",
       "  color: #000000;\n",
       "}\n",
       "#T_35986_row1_col2 {\n",
       "  background-color: #cadef0;\n",
       "  color: #000000;\n",
       "}\n",
       "#T_35986_row1_col3 {\n",
       "  background-color: #ddeaf7;\n",
       "  color: #000000;\n",
       "}\n",
       "#T_35986_row2_col0 {\n",
       "  background-color: #a1cbe2;\n",
       "  color: #000000;\n",
       "}\n",
       "#T_35986_row2_col1 {\n",
       "  background-color: #c6dbef;\n",
       "  color: #000000;\n",
       "}\n",
       "#T_35986_row2_col3 {\n",
       "  background-color: #d8e7f5;\n",
       "  color: #000000;\n",
       "}\n",
       "</style>\n",
       "<table id=\"T_35986\">\n",
       "  <thead>\n",
       "    <tr>\n",
       "      <th class=\"blank level0\" >&nbsp;</th>\n",
       "      <th id=\"T_35986_level0_col0\" class=\"col_heading level0 col0\" >ProsperRating_num</th>\n",
       "      <th id=\"T_35986_level0_col1\" class=\"col_heading level0 col1\" >LoanStatus_num</th>\n",
       "      <th id=\"T_35986_level0_col2\" class=\"col_heading level0 col2\" >ListingCategory_num</th>\n",
       "      <th id=\"T_35986_level0_col3\" class=\"col_heading level0 col3\" >LoanOriginalAmount</th>\n",
       "    </tr>\n",
       "  </thead>\n",
       "  <tbody>\n",
       "    <tr>\n",
       "      <th id=\"T_35986_level0_row0\" class=\"row_heading level0 row0\" >ProsperRating_num</th>\n",
       "      <td id=\"T_35986_row0_col0\" class=\"data row0 col0\" >1.000000</td>\n",
       "      <td id=\"T_35986_row0_col1\" class=\"data row0 col1\" >0.231763</td>\n",
       "      <td id=\"T_35986_row0_col2\" class=\"data row0 col2\" >0.094474</td>\n",
       "      <td id=\"T_35986_row0_col3\" class=\"data row0 col3\" >-0.428557</td>\n",
       "    </tr>\n",
       "    <tr>\n",
       "      <th id=\"T_35986_level0_row1\" class=\"row_heading level0 row1\" >LoanStatus_num</th>\n",
       "      <td id=\"T_35986_row1_col0\" class=\"data row1 col0\" >0.231763</td>\n",
       "      <td id=\"T_35986_row1_col1\" class=\"data row1 col1\" >1.000000</td>\n",
       "      <td id=\"T_35986_row1_col2\" class=\"data row1 col2\" >0.070818</td>\n",
       "      <td id=\"T_35986_row1_col3\" class=\"data row1 col3\" >-0.240187</td>\n",
       "    </tr>\n",
       "    <tr>\n",
       "      <th id=\"T_35986_level0_row2\" class=\"row_heading level0 row2\" >ListingCategory_num</th>\n",
       "      <td id=\"T_35986_row2_col0\" class=\"data row2 col0\" >0.094474</td>\n",
       "      <td id=\"T_35986_row2_col1\" class=\"data row2 col1\" >0.070818</td>\n",
       "      <td id=\"T_35986_row2_col2\" class=\"data row2 col2\" >1.000000</td>\n",
       "      <td id=\"T_35986_row2_col3\" class=\"data row2 col3\" >-0.202322</td>\n",
       "    </tr>\n",
       "    <tr>\n",
       "      <th id=\"T_35986_level0_row3\" class=\"row_heading level0 row3\" >LoanOriginalAmount</th>\n",
       "      <td id=\"T_35986_row3_col0\" class=\"data row3 col0\" >-0.428557</td>\n",
       "      <td id=\"T_35986_row3_col1\" class=\"data row3 col1\" >-0.240187</td>\n",
       "      <td id=\"T_35986_row3_col2\" class=\"data row3 col2\" >-0.202322</td>\n",
       "      <td id=\"T_35986_row3_col3\" class=\"data row3 col3\" >1.000000</td>\n",
       "    </tr>\n",
       "  </tbody>\n",
       "</table>\n"
      ],
      "text/plain": [
       "<pandas.io.formats.style.Styler at 0x215291cf490>"
      ]
     },
     "execution_count": 141,
     "metadata": {},
     "output_type": "execute_result"
    }
   ],
   "source": [
    "df_cor = df_c.copy()\n",
    "\n",
    "def p_cor(row):\n",
    "    if row['ProsperRating (Alpha)'] == 'AA':\n",
    "        return 1\n",
    "    if row['ProsperRating (Alpha)'] == 'A':\n",
    "        return 2\n",
    "    if row['ProsperRating (Alpha)'] == 'B':\n",
    "        return 3\n",
    "    if row['ProsperRating (Alpha)'] == 'C':\n",
    "        return 4\n",
    "    if row['ProsperRating (Alpha)'] == 'D':\n",
    "        return 5\n",
    "    if row['ProsperRating (Alpha)'] == 'E':\n",
    "        return 6\n",
    "    else:\n",
    "        return 7\n",
    "\n",
    "def ls_cor(row):\n",
    "    if row['LoanStatus_t'] == 'Active':\n",
    "        return 1\n",
    "    if row['LoanStatus_t'] == 'Completed':\n",
    "        return 2\n",
    "    if row['LoanStatus_t'] == 'Late':\n",
    "        return 3\n",
    "    else:\n",
    "        return 4\n",
    "    \n",
    "df_cor['ProsperRating_num'] = df_cor.apply(p_cor, axis=1)\n",
    "df_cor['LoanStatus_num'] = df_cor.apply(ls_cor, axis=1)\n",
    "df_cor['ListingCategory_num'] = df_cor['ListingCategory (numeric)']\n",
    "\n",
    "df_cor[['ProsperRating_num','LoanStatus_num','ListingCategory_num','LoanOriginalAmount']].corr().style.background_gradient(cmap='Blues')"
   ]
  },
  {
   "cell_type": "markdown",
   "metadata": {},
   "source": [
    "* After transforming our categories to numerical equivalents to use the correlation function, we still can't find a strong correlation among them."
   ]
  },
  {
   "cell_type": "markdown",
   "metadata": {},
   "source": [
    "## Talk about some of the relationships you observed in this part of the investigation. Were there features that strengthened each other in terms of looking at your feature(s) of interest?"
   ]
  },
  {
   "cell_type": "markdown",
   "metadata": {},
   "source": [
    "Completed status along all prosper ratings seems to be made up of lower credits. Except for A and AA ratings, all other loan status median seems to be similar. Even after transforming our categories into numerical equivalents to use a correlation function, it didn't show any meaningful results.\n",
    "Our assumptions were strenghened in the meaning that we know that the majority of defaults comes from lower ratings, however we know as well that the amount of credit taken by lower ratings borrowers is less significant than the ones taken by higher rating, therefore it is more critical for us if a AA rating goes default rather than someone with D rating."
   ]
  },
  {
   "cell_type": "markdown",
   "metadata": {},
   "source": [
    "## Were there any interesting or surprising interactions between features?"
   ]
  },
  {
   "cell_type": "markdown",
   "metadata": {},
   "source": [
    "Finding out that completed loans tends to be lower than all other categories is unexpected."
   ]
  }
 ],
 "metadata": {
  "kernelspec": {
   "display_name": "Python 3.9.12 ('base')",
   "language": "python",
   "name": "python3"
  },
  "language_info": {
   "codemirror_mode": {
    "name": "ipython",
    "version": 3
   },
   "file_extension": ".py",
   "mimetype": "text/x-python",
   "name": "python",
   "nbconvert_exporter": "python",
   "pygments_lexer": "ipython3",
   "version": "3.9.12"
  },
  "orig_nbformat": 4,
  "vscode": {
   "interpreter": {
    "hash": "ef32b0f850c23143ee4181bdf9ed7c70512157008f9e332df5029f35b2b0fcbf"
   }
  }
 },
 "nbformat": 4,
 "nbformat_minor": 2
}
