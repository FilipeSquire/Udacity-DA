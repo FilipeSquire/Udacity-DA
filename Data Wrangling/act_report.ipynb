{
 "cells": [
  {
   "cell_type": "code",
   "execution_count": null,
   "metadata": {},
   "outputs": [],
   "source": []
  }
 ],
 "metadata": {
  "kernelspec": {
   "display_name": "Python 3.9.12 ('base')",
   "language": "python",
   "name": "python3"
  },
  "language_info": {
   "name": "python",
   "version": "3.9.12"
  },
  "orig_nbformat": 4,
  "vscode": {
   "interpreter": {
    "hash": "ef32b0f850c23143ee4181bdf9ed7c70512157008f9e332df5029f35b2b0fcbf"
   }
  }
 },
 "nbformat": 4,
 "nbformat_minor": 2
}
